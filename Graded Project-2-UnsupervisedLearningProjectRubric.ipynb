{
 "cells": [
  {
   "cell_type": "markdown",
   "id": "80886443",
   "metadata": {},
   "source": [
    "# Business Context:\n",
    "● Customer segmentation is one of the most important marketing tools at your disposal, because it can help a business to better understand its target audience. This is because it groups customers based on common characteristics. ● Segmentation can be based on the customer’s habits and lifestyle, in particular, their buying habits. Different age groups, for example, tend to spend their money in different ways, so brands need to be aware of who exactly is buying their product. ● Segmentation also focuses more on the personality of the consumer, including their opinions, interests, reviews, and rating. Breaking down a large customer base into more manageable clusters, making it easier to identify your target audience and launch campaigns and promote the business to the most relevant people\n"
   ]
  },
  {
   "cell_type": "markdown",
   "id": "09172c6f",
   "metadata": {},
   "source": [
    "Data Citation: ● Rishabh Misra, Mengting Wan, Julian McAuley \"Decomposing Fit Semantics for Product Size Recommendation in Metric Spaces\". RecSys, 2018. ● Rishabh Misra, Jigyasa Grover \"Sculpting Data for ML: The first act of Machine Learning\". 2021.\n",
    "\n",
    "Dataset Description: The dataset contains measurements of clothing fit from RentTheRunway. RentTheRunWay is a unique platform that allows women to rent clothes for various occasions. The collected data is of several categories. This dataset contains self-reported fit feedback from customers as well as other side information like reviews, ratings, product categories, catalog sizes, customers’ measurements (etc.)"
   ]
  },
  {
   "cell_type": "code",
   "execution_count": 123,
   "id": "8662e26b",
   "metadata": {},
   "outputs": [],
   "source": [
    "# importing libraries\n",
    "\n",
    "import pandas as pd                                                 \n",
    "pd.set_option('display.max_columns', None)                              \n",
    "pd.set_option('display.max_colwidth', None)                           \n",
    "\n",
    "import numpy as np\n",
    "\n",
    "import matplotlib.pyplot as plt \n",
    "plt.style.use('dark_background')\n",
    "import seaborn as sns                                              \n",
    "sns.set(style='whitegrid')\n",
    "sns.color_palette('dark')\n",
    "%matplotlib inline\n",
    "\n",
    "import matplotlib.pyplot as plt\n",
    "import seaborn as sns\n",
    "import sklearn\n",
    "from sklearn.model_selection import train_test_split\n",
    "from sklearn.preprocessing import StandardScaler\n",
    "from sklearn.preprocessing import StandardScaler,LabelEncoder\n",
    "from sklearn.cluster import KMeans\n",
    "from scipy.stats import zscore\n",
    "from scipy.spatial import distance\n",
    "from scipy.cluster.hierarchy import linkage, dendrogram, fcluster\n",
    "from sklearn.cluster import AgglomerativeClustering\n",
    "from sklearn.decomposition import PCA\n",
    "from sklearn.preprocessing import Normalizer\n",
    "\n",
    "import warnings\n",
    "warnings.filterwarnings('ignore')"
   ]
  },
  {
   "cell_type": "code",
   "execution_count": 124,
   "id": "4152bd77",
   "metadata": {},
   "outputs": [
    {
     "data": {
      "text/html": [
       "<div>\n",
       "<style scoped>\n",
       "    .dataframe tbody tr th:only-of-type {\n",
       "        vertical-align: middle;\n",
       "    }\n",
       "\n",
       "    .dataframe tbody tr th {\n",
       "        vertical-align: top;\n",
       "    }\n",
       "\n",
       "    .dataframe thead th {\n",
       "        text-align: right;\n",
       "    }\n",
       "</style>\n",
       "<table border=\"1\" class=\"dataframe\">\n",
       "  <thead>\n",
       "    <tr style=\"text-align: right;\">\n",
       "      <th></th>\n",
       "      <th>Unnamed: 0</th>\n",
       "      <th>fit</th>\n",
       "      <th>user_id</th>\n",
       "      <th>bust size</th>\n",
       "      <th>item_id</th>\n",
       "      <th>weight</th>\n",
       "      <th>rating</th>\n",
       "      <th>rented for</th>\n",
       "      <th>review_text</th>\n",
       "      <th>body type</th>\n",
       "      <th>review_summary</th>\n",
       "      <th>category</th>\n",
       "      <th>height</th>\n",
       "      <th>size</th>\n",
       "      <th>age</th>\n",
       "      <th>review_date</th>\n",
       "    </tr>\n",
       "  </thead>\n",
       "  <tbody>\n",
       "    <tr>\n",
       "      <th>0</th>\n",
       "      <td>0</td>\n",
       "      <td>fit</td>\n",
       "      <td>420272</td>\n",
       "      <td>34d</td>\n",
       "      <td>2260466</td>\n",
       "      <td>137lbs</td>\n",
       "      <td>10.0</td>\n",
       "      <td>vacation</td>\n",
       "      <td>An adorable romper! Belt and zipper were a little hard to navigate in a full day of wear/bathroom use, but that's to be expected. Wish it had pockets, but other than that-- absolutely perfect! I got a million compliments.</td>\n",
       "      <td>hourglass</td>\n",
       "      <td>So many compliments!</td>\n",
       "      <td>romper</td>\n",
       "      <td>5' 8\"</td>\n",
       "      <td>14</td>\n",
       "      <td>28.0</td>\n",
       "      <td>April 20, 2016</td>\n",
       "    </tr>\n",
       "    <tr>\n",
       "      <th>1</th>\n",
       "      <td>1</td>\n",
       "      <td>fit</td>\n",
       "      <td>273551</td>\n",
       "      <td>34b</td>\n",
       "      <td>153475</td>\n",
       "      <td>132lbs</td>\n",
       "      <td>10.0</td>\n",
       "      <td>other</td>\n",
       "      <td>I rented this dress for a photo shoot. The theme was \"Hollywood Glam and Big Beautiful Hats\". The dress was very comfortable and easy to move around in. It is definitely on my list to rent again for another formal event.</td>\n",
       "      <td>straight &amp; narrow</td>\n",
       "      <td>I felt so glamourous!!!</td>\n",
       "      <td>gown</td>\n",
       "      <td>5' 6\"</td>\n",
       "      <td>12</td>\n",
       "      <td>36.0</td>\n",
       "      <td>June 18, 2013</td>\n",
       "    </tr>\n",
       "    <tr>\n",
       "      <th>2</th>\n",
       "      <td>2</td>\n",
       "      <td>fit</td>\n",
       "      <td>360448</td>\n",
       "      <td>NaN</td>\n",
       "      <td>1063761</td>\n",
       "      <td>NaN</td>\n",
       "      <td>10.0</td>\n",
       "      <td>party</td>\n",
       "      <td>This hugged in all the right places! It was a perfect dress for my event and I received so many compliments on it. Not to mention customer service was great getting this to me in less than 24 hours!</td>\n",
       "      <td>NaN</td>\n",
       "      <td>It was a great time to celebrate the (almost) completion of my first year of law school.</td>\n",
       "      <td>sheath</td>\n",
       "      <td>5' 4\"</td>\n",
       "      <td>4</td>\n",
       "      <td>116.0</td>\n",
       "      <td>December 14, 2015</td>\n",
       "    </tr>\n",
       "    <tr>\n",
       "      <th>3</th>\n",
       "      <td>3</td>\n",
       "      <td>fit</td>\n",
       "      <td>909926</td>\n",
       "      <td>34c</td>\n",
       "      <td>126335</td>\n",
       "      <td>135lbs</td>\n",
       "      <td>8.0</td>\n",
       "      <td>formal affair</td>\n",
       "      <td>I rented this for my company's black tie awards banquet.  I liked that this dress was short but was a little fancier with the sequins. (I generally don't care for long dresses.)  I would describe the color as more rose gold than yellow gold.  I have blonde hair and fair skin, and the color was very flattering.  This is a very forgiving dress! It's form fitting without making you feel like you're squeezed into it.  I would rent this one again.  Highly recommend!</td>\n",
       "      <td>pear</td>\n",
       "      <td>Dress arrived on time and in perfect condition.</td>\n",
       "      <td>dress</td>\n",
       "      <td>5' 5\"</td>\n",
       "      <td>8</td>\n",
       "      <td>34.0</td>\n",
       "      <td>February 12, 2014</td>\n",
       "    </tr>\n",
       "    <tr>\n",
       "      <th>4</th>\n",
       "      <td>4</td>\n",
       "      <td>fit</td>\n",
       "      <td>151944</td>\n",
       "      <td>34b</td>\n",
       "      <td>616682</td>\n",
       "      <td>145lbs</td>\n",
       "      <td>10.0</td>\n",
       "      <td>wedding</td>\n",
       "      <td>I have always been petite in my upper body and extremely athletic. \\nI'm 5'9 and typically am a size 4,6,8 due to the fact I had a smaller upper frame and 34B cup. Depends what fabric were talking about too! \\nHowever, because I have been lifting weights my back has grown (odd to add- but figured I'd say it knowing other people lift weights) My lat area is so wide that I was suffocating in a size 6. If I wasn't as muscular in my back I would've been fine. I would recommend to go up a size if you are into lifting weights and very broad in your upper body.</td>\n",
       "      <td>athletic</td>\n",
       "      <td>Was in love with this dress !!!</td>\n",
       "      <td>gown</td>\n",
       "      <td>5' 9\"</td>\n",
       "      <td>12</td>\n",
       "      <td>27.0</td>\n",
       "      <td>September 26, 2016</td>\n",
       "    </tr>\n",
       "  </tbody>\n",
       "</table>\n",
       "</div>"
      ],
      "text/plain": [
       "   Unnamed: 0  fit  user_id bust size  item_id  weight  rating     rented for  \\\n",
       "0           0  fit   420272       34d  2260466  137lbs    10.0       vacation   \n",
       "1           1  fit   273551       34b   153475  132lbs    10.0          other   \n",
       "2           2  fit   360448       NaN  1063761     NaN    10.0          party   \n",
       "3           3  fit   909926       34c   126335  135lbs     8.0  formal affair   \n",
       "4           4  fit   151944       34b   616682  145lbs    10.0        wedding   \n",
       "\n",
       "                                                                                                                                                                                                                                                                                                                                                                                                                                                                                                                                                                         review_text  \\\n",
       "0                                                                                                                                                                                                                                                                                                                                                      An adorable romper! Belt and zipper were a little hard to navigate in a full day of wear/bathroom use, but that's to be expected. Wish it had pockets, but other than that-- absolutely perfect! I got a million compliments.   \n",
       "1                                                                                                                                                                                                                                                                                                                                                      I rented this dress for a photo shoot. The theme was \"Hollywood Glam and Big Beautiful Hats\". The dress was very comfortable and easy to move around in. It is definitely on my list to rent again for another formal event.    \n",
       "2                                                                                                                                                                                                                                                                                                                                                                             This hugged in all the right places! It was a perfect dress for my event and I received so many compliments on it. Not to mention customer service was great getting this to me in less than 24 hours!   \n",
       "3                                                                                                  I rented this for my company's black tie awards banquet.  I liked that this dress was short but was a little fancier with the sequins. (I generally don't care for long dresses.)  I would describe the color as more rose gold than yellow gold.  I have blonde hair and fair skin, and the color was very flattering.  This is a very forgiving dress! It's form fitting without making you feel like you're squeezed into it.  I would rent this one again.  Highly recommend!   \n",
       "4  I have always been petite in my upper body and extremely athletic. \\nI'm 5'9 and typically am a size 4,6,8 due to the fact I had a smaller upper frame and 34B cup. Depends what fabric were talking about too! \\nHowever, because I have been lifting weights my back has grown (odd to add- but figured I'd say it knowing other people lift weights) My lat area is so wide that I was suffocating in a size 6. If I wasn't as muscular in my back I would've been fine. I would recommend to go up a size if you are into lifting weights and very broad in your upper body.    \n",
       "\n",
       "           body type  \\\n",
       "0          hourglass   \n",
       "1  straight & narrow   \n",
       "2                NaN   \n",
       "3               pear   \n",
       "4           athletic   \n",
       "\n",
       "                                                                             review_summary  \\\n",
       "0                                                                      So many compliments!   \n",
       "1                                                                   I felt so glamourous!!!   \n",
       "2  It was a great time to celebrate the (almost) completion of my first year of law school.   \n",
       "3                                          Dress arrived on time and in perfect condition.    \n",
       "4                                                           Was in love with this dress !!!   \n",
       "\n",
       "  category height  size    age         review_date  \n",
       "0   romper  5' 8\"    14   28.0      April 20, 2016  \n",
       "1     gown  5' 6\"    12   36.0       June 18, 2013  \n",
       "2   sheath  5' 4\"     4  116.0   December 14, 2015  \n",
       "3    dress  5' 5\"     8   34.0   February 12, 2014  \n",
       "4     gown  5' 9\"    12   27.0  September 26, 2016  "
      ]
     },
     "execution_count": 124,
     "metadata": {},
     "output_type": "execute_result"
    }
   ],
   "source": [
    "# read the dataset\n",
    "\n",
    "df = pd.read_csv('renttherunway.csv', index_col=False)\n",
    "df.head(5)"
   ]
  },
  {
   "cell_type": "code",
   "execution_count": 125,
   "id": "f24bae9d",
   "metadata": {},
   "outputs": [
    {
     "name": "stdout",
     "output_type": "stream",
     "text": [
      "<class 'pandas.core.frame.DataFrame'>\n",
      "RangeIndex: 192544 entries, 0 to 192543\n",
      "Data columns (total 16 columns):\n",
      " #   Column          Non-Null Count   Dtype  \n",
      "---  ------          --------------   -----  \n",
      " 0   Unnamed: 0      192544 non-null  int64  \n",
      " 1   fit             192544 non-null  object \n",
      " 2   user_id         192544 non-null  int64  \n",
      " 3   bust size       174133 non-null  object \n",
      " 4   item_id         192544 non-null  int64  \n",
      " 5   weight          162562 non-null  object \n",
      " 6   rating          192462 non-null  float64\n",
      " 7   rented for      192534 non-null  object \n",
      " 8   review_text     192482 non-null  object \n",
      " 9   body type       177907 non-null  object \n",
      " 10  review_summary  192199 non-null  object \n",
      " 11  category        192544 non-null  object \n",
      " 12  height          191867 non-null  object \n",
      " 13  size            192544 non-null  int64  \n",
      " 14  age             191584 non-null  float64\n",
      " 15  review_date     192544 non-null  object \n",
      "dtypes: float64(2), int64(4), object(10)\n",
      "memory usage: 23.5+ MB\n"
     ]
    }
   ],
   "source": [
    "df.info()"
   ]
  },
  {
   "cell_type": "code",
   "execution_count": 126,
   "id": "3b0a30cc",
   "metadata": {},
   "outputs": [
    {
     "data": {
      "text/plain": [
       "(192544, 16)"
      ]
     },
     "execution_count": 126,
     "metadata": {},
     "output_type": "execute_result"
    }
   ],
   "source": [
    "df.shape"
   ]
  },
  {
   "cell_type": "code",
   "execution_count": 127,
   "id": "4f463197",
   "metadata": {},
   "outputs": [
    {
     "data": {
      "text/html": [
       "<div>\n",
       "<style scoped>\n",
       "    .dataframe tbody tr th:only-of-type {\n",
       "        vertical-align: middle;\n",
       "    }\n",
       "\n",
       "    .dataframe tbody tr th {\n",
       "        vertical-align: top;\n",
       "    }\n",
       "\n",
       "    .dataframe thead th {\n",
       "        text-align: right;\n",
       "    }\n",
       "</style>\n",
       "<table border=\"1\" class=\"dataframe\">\n",
       "  <thead>\n",
       "    <tr style=\"text-align: right;\">\n",
       "      <th></th>\n",
       "      <th>rating</th>\n",
       "      <th>size</th>\n",
       "      <th>age</th>\n",
       "    </tr>\n",
       "  </thead>\n",
       "  <tbody>\n",
       "    <tr>\n",
       "      <th>count</th>\n",
       "      <td>192462.000000</td>\n",
       "      <td>192544.000000</td>\n",
       "      <td>191584.000000</td>\n",
       "    </tr>\n",
       "    <tr>\n",
       "      <th>mean</th>\n",
       "      <td>9.092371</td>\n",
       "      <td>12.245175</td>\n",
       "      <td>33.871017</td>\n",
       "    </tr>\n",
       "    <tr>\n",
       "      <th>std</th>\n",
       "      <td>1.430044</td>\n",
       "      <td>8.494877</td>\n",
       "      <td>8.058083</td>\n",
       "    </tr>\n",
       "    <tr>\n",
       "      <th>min</th>\n",
       "      <td>2.000000</td>\n",
       "      <td>0.000000</td>\n",
       "      <td>0.000000</td>\n",
       "    </tr>\n",
       "    <tr>\n",
       "      <th>25%</th>\n",
       "      <td>8.000000</td>\n",
       "      <td>8.000000</td>\n",
       "      <td>29.000000</td>\n",
       "    </tr>\n",
       "    <tr>\n",
       "      <th>50%</th>\n",
       "      <td>10.000000</td>\n",
       "      <td>12.000000</td>\n",
       "      <td>32.000000</td>\n",
       "    </tr>\n",
       "    <tr>\n",
       "      <th>75%</th>\n",
       "      <td>10.000000</td>\n",
       "      <td>16.000000</td>\n",
       "      <td>37.000000</td>\n",
       "    </tr>\n",
       "    <tr>\n",
       "      <th>max</th>\n",
       "      <td>10.000000</td>\n",
       "      <td>58.000000</td>\n",
       "      <td>117.000000</td>\n",
       "    </tr>\n",
       "  </tbody>\n",
       "</table>\n",
       "</div>"
      ],
      "text/plain": [
       "              rating           size            age\n",
       "count  192462.000000  192544.000000  191584.000000\n",
       "mean        9.092371      12.245175      33.871017\n",
       "std         1.430044       8.494877       8.058083\n",
       "min         2.000000       0.000000       0.000000\n",
       "25%         8.000000       8.000000      29.000000\n",
       "50%        10.000000      12.000000      32.000000\n",
       "75%        10.000000      16.000000      37.000000\n",
       "max        10.000000      58.000000     117.000000"
      ]
     },
     "execution_count": 127,
     "metadata": {},
     "output_type": "execute_result"
    }
   ],
   "source": [
    "## Lets check the statistical summary of the data\n",
    "ds=df.drop(columns=['user_id','item_id','Unnamed: 0'],axis=1)\n",
    "ds.describe()"
   ]
  },
  {
   "cell_type": "markdown",
   "id": "9133c817",
   "metadata": {},
   "source": [
    "# DATA CLEANSING AND EXPLORATORY DATA ANALYSIS"
   ]
  },
  {
   "cell_type": "code",
   "execution_count": 128,
   "id": "be49d9f0",
   "metadata": {},
   "outputs": [
    {
     "name": "stdout",
     "output_type": "stream",
     "text": [
      "There are no duplicate rows\n"
     ]
    }
   ],
   "source": [
    "# Check if there are any duplicate records in the dataset? If any, drop them.\n",
    "def ifDuplicateSamples(data):\n",
    "  dd = data.duplicated().sum()\n",
    "  if dd == 0:\n",
    "    print(\"There are no duplicate rows\")\n",
    "    return\n",
    "  else:\n",
    "    print(\"There are \",dd,\"duplicate rows\")\n",
    "\n",
    "#running it on current data\n",
    "ifDuplicateSamples(df)"
   ]
  },
  {
   "cell_type": "code",
   "execution_count": 129,
   "id": "6304b49c",
   "metadata": {},
   "outputs": [
    {
     "data": {
      "text/plain": [
       "(192544, 16)"
      ]
     },
     "execution_count": 129,
     "metadata": {},
     "output_type": "execute_result"
    }
   ],
   "source": [
    "df.shape"
   ]
  },
  {
   "cell_type": "code",
   "execution_count": 130,
   "id": "d8151bdf",
   "metadata": {},
   "outputs": [
    {
     "data": {
      "text/plain": [
       "Unnamed: 0            0\n",
       "fit                   0\n",
       "user_id               0\n",
       "bust size         18411\n",
       "item_id               0\n",
       "weight            29982\n",
       "rating               82\n",
       "rented for           10\n",
       "review_text          62\n",
       "body type         14637\n",
       "review_summary      345\n",
       "category              0\n",
       "height              677\n",
       "size                  0\n",
       "age                 960\n",
       "review_date           0\n",
       "dtype: int64"
      ]
     },
     "execution_count": 130,
     "metadata": {},
     "output_type": "execute_result"
    }
   ],
   "source": [
    "df.isnull().sum()"
   ]
  },
  {
   "cell_type": "code",
   "execution_count": 131,
   "id": "6f90285e",
   "metadata": {},
   "outputs": [
    {
     "data": {
      "text/html": [
       "<div>\n",
       "<style scoped>\n",
       "    .dataframe tbody tr th:only-of-type {\n",
       "        vertical-align: middle;\n",
       "    }\n",
       "\n",
       "    .dataframe tbody tr th {\n",
       "        vertical-align: top;\n",
       "    }\n",
       "\n",
       "    .dataframe thead th {\n",
       "        text-align: right;\n",
       "    }\n",
       "</style>\n",
       "<table border=\"1\" class=\"dataframe\">\n",
       "  <thead>\n",
       "    <tr style=\"text-align: right;\">\n",
       "      <th></th>\n",
       "      <th>fit</th>\n",
       "      <th>user_id</th>\n",
       "      <th>bust size</th>\n",
       "      <th>item_id</th>\n",
       "      <th>weight</th>\n",
       "      <th>rating</th>\n",
       "      <th>rented for</th>\n",
       "      <th>body type</th>\n",
       "      <th>category</th>\n",
       "      <th>height</th>\n",
       "      <th>size</th>\n",
       "      <th>age</th>\n",
       "    </tr>\n",
       "  </thead>\n",
       "  <tbody>\n",
       "    <tr>\n",
       "      <th>0</th>\n",
       "      <td>fit</td>\n",
       "      <td>420272</td>\n",
       "      <td>34d</td>\n",
       "      <td>2260466</td>\n",
       "      <td>137lbs</td>\n",
       "      <td>10.0</td>\n",
       "      <td>vacation</td>\n",
       "      <td>hourglass</td>\n",
       "      <td>romper</td>\n",
       "      <td>5' 8\"</td>\n",
       "      <td>14</td>\n",
       "      <td>28.0</td>\n",
       "    </tr>\n",
       "    <tr>\n",
       "      <th>1</th>\n",
       "      <td>fit</td>\n",
       "      <td>273551</td>\n",
       "      <td>34b</td>\n",
       "      <td>153475</td>\n",
       "      <td>132lbs</td>\n",
       "      <td>10.0</td>\n",
       "      <td>other</td>\n",
       "      <td>straight &amp; narrow</td>\n",
       "      <td>gown</td>\n",
       "      <td>5' 6\"</td>\n",
       "      <td>12</td>\n",
       "      <td>36.0</td>\n",
       "    </tr>\n",
       "    <tr>\n",
       "      <th>2</th>\n",
       "      <td>fit</td>\n",
       "      <td>360448</td>\n",
       "      <td>NaN</td>\n",
       "      <td>1063761</td>\n",
       "      <td>NaN</td>\n",
       "      <td>10.0</td>\n",
       "      <td>party</td>\n",
       "      <td>NaN</td>\n",
       "      <td>sheath</td>\n",
       "      <td>5' 4\"</td>\n",
       "      <td>4</td>\n",
       "      <td>116.0</td>\n",
       "    </tr>\n",
       "    <tr>\n",
       "      <th>3</th>\n",
       "      <td>fit</td>\n",
       "      <td>909926</td>\n",
       "      <td>34c</td>\n",
       "      <td>126335</td>\n",
       "      <td>135lbs</td>\n",
       "      <td>8.0</td>\n",
       "      <td>formal affair</td>\n",
       "      <td>pear</td>\n",
       "      <td>dress</td>\n",
       "      <td>5' 5\"</td>\n",
       "      <td>8</td>\n",
       "      <td>34.0</td>\n",
       "    </tr>\n",
       "    <tr>\n",
       "      <th>4</th>\n",
       "      <td>fit</td>\n",
       "      <td>151944</td>\n",
       "      <td>34b</td>\n",
       "      <td>616682</td>\n",
       "      <td>145lbs</td>\n",
       "      <td>10.0</td>\n",
       "      <td>wedding</td>\n",
       "      <td>athletic</td>\n",
       "      <td>gown</td>\n",
       "      <td>5' 9\"</td>\n",
       "      <td>12</td>\n",
       "      <td>27.0</td>\n",
       "    </tr>\n",
       "  </tbody>\n",
       "</table>\n",
       "</div>"
      ],
      "text/plain": [
       "   fit  user_id bust size  item_id  weight  rating     rented for  \\\n",
       "0  fit   420272       34d  2260466  137lbs    10.0       vacation   \n",
       "1  fit   273551       34b   153475  132lbs    10.0          other   \n",
       "2  fit   360448       NaN  1063761     NaN    10.0          party   \n",
       "3  fit   909926       34c   126335  135lbs     8.0  formal affair   \n",
       "4  fit   151944       34b   616682  145lbs    10.0        wedding   \n",
       "\n",
       "           body type category height  size    age  \n",
       "0          hourglass   romper  5' 8\"    14   28.0  \n",
       "1  straight & narrow     gown  5' 6\"    12   36.0  \n",
       "2                NaN   sheath  5' 4\"     4  116.0  \n",
       "3               pear    dress  5' 5\"     8   34.0  \n",
       "4           athletic     gown  5' 9\"    12   27.0  "
      ]
     },
     "execution_count": 131,
     "metadata": {},
     "output_type": "execute_result"
    }
   ],
   "source": [
    "# Drop the columns redundant for the analysis\n",
    "df.drop(columns= ['Unnamed: 0','review_date', 'review_text','review_summary'],inplace=True)\n",
    "df.head(5)"
   ]
  },
  {
   "cell_type": "code",
   "execution_count": 132,
   "id": "5580204d",
   "metadata": {},
   "outputs": [
    {
     "data": {
      "text/html": [
       "<div>\n",
       "<style scoped>\n",
       "    .dataframe tbody tr th:only-of-type {\n",
       "        vertical-align: middle;\n",
       "    }\n",
       "\n",
       "    .dataframe tbody tr th {\n",
       "        vertical-align: top;\n",
       "    }\n",
       "\n",
       "    .dataframe thead th {\n",
       "        text-align: right;\n",
       "    }\n",
       "</style>\n",
       "<table border=\"1\" class=\"dataframe\">\n",
       "  <thead>\n",
       "    <tr style=\"text-align: right;\">\n",
       "      <th></th>\n",
       "      <th>fit</th>\n",
       "      <th>bust size</th>\n",
       "      <th>weight</th>\n",
       "      <th>rating</th>\n",
       "      <th>rented for</th>\n",
       "      <th>body type</th>\n",
       "      <th>category</th>\n",
       "      <th>height</th>\n",
       "      <th>size</th>\n",
       "      <th>age</th>\n",
       "    </tr>\n",
       "  </thead>\n",
       "  <tbody>\n",
       "    <tr>\n",
       "      <th>0</th>\n",
       "      <td>fit</td>\n",
       "      <td>34d</td>\n",
       "      <td>137lbs</td>\n",
       "      <td>10.0</td>\n",
       "      <td>vacation</td>\n",
       "      <td>hourglass</td>\n",
       "      <td>romper</td>\n",
       "      <td>5' 8\"</td>\n",
       "      <td>14</td>\n",
       "      <td>28.0</td>\n",
       "    </tr>\n",
       "    <tr>\n",
       "      <th>1</th>\n",
       "      <td>fit</td>\n",
       "      <td>34b</td>\n",
       "      <td>132lbs</td>\n",
       "      <td>10.0</td>\n",
       "      <td>other</td>\n",
       "      <td>straight &amp; narrow</td>\n",
       "      <td>gown</td>\n",
       "      <td>5' 6\"</td>\n",
       "      <td>12</td>\n",
       "      <td>36.0</td>\n",
       "    </tr>\n",
       "    <tr>\n",
       "      <th>2</th>\n",
       "      <td>fit</td>\n",
       "      <td>NaN</td>\n",
       "      <td>NaN</td>\n",
       "      <td>10.0</td>\n",
       "      <td>party</td>\n",
       "      <td>NaN</td>\n",
       "      <td>sheath</td>\n",
       "      <td>5' 4\"</td>\n",
       "      <td>4</td>\n",
       "      <td>116.0</td>\n",
       "    </tr>\n",
       "    <tr>\n",
       "      <th>3</th>\n",
       "      <td>fit</td>\n",
       "      <td>34c</td>\n",
       "      <td>135lbs</td>\n",
       "      <td>8.0</td>\n",
       "      <td>formal affair</td>\n",
       "      <td>pear</td>\n",
       "      <td>dress</td>\n",
       "      <td>5' 5\"</td>\n",
       "      <td>8</td>\n",
       "      <td>34.0</td>\n",
       "    </tr>\n",
       "    <tr>\n",
       "      <th>4</th>\n",
       "      <td>fit</td>\n",
       "      <td>34b</td>\n",
       "      <td>145lbs</td>\n",
       "      <td>10.0</td>\n",
       "      <td>wedding</td>\n",
       "      <td>athletic</td>\n",
       "      <td>gown</td>\n",
       "      <td>5' 9\"</td>\n",
       "      <td>12</td>\n",
       "      <td>27.0</td>\n",
       "    </tr>\n",
       "  </tbody>\n",
       "</table>\n",
       "</div>"
      ],
      "text/plain": [
       "   fit bust size  weight  rating     rented for          body type category  \\\n",
       "0  fit       34d  137lbs    10.0       vacation          hourglass   romper   \n",
       "1  fit       34b  132lbs    10.0          other  straight & narrow     gown   \n",
       "2  fit       NaN     NaN    10.0          party                NaN   sheath   \n",
       "3  fit       34c  135lbs     8.0  formal affair               pear    dress   \n",
       "4  fit       34b  145lbs    10.0        wedding           athletic     gown   \n",
       "\n",
       "  height  size    age  \n",
       "0  5' 8\"    14   28.0  \n",
       "1  5' 6\"    12   36.0  \n",
       "2  5' 4\"     4  116.0  \n",
       "3  5' 5\"     8   34.0  \n",
       "4  5' 9\"    12   27.0  "
      ]
     },
     "execution_count": 132,
     "metadata": {},
     "output_type": "execute_result"
    }
   ],
   "source": [
    "df.drop(columns=['user_id','item_id'],inplace=True)\n",
    "df.head(5)"
   ]
  },
  {
   "cell_type": "code",
   "execution_count": 133,
   "id": "48941c5c",
   "metadata": {},
   "outputs": [
    {
     "data": {
      "text/html": [
       "<div>\n",
       "<style scoped>\n",
       "    .dataframe tbody tr th:only-of-type {\n",
       "        vertical-align: middle;\n",
       "    }\n",
       "\n",
       "    .dataframe tbody tr th {\n",
       "        vertical-align: top;\n",
       "    }\n",
       "\n",
       "    .dataframe thead th {\n",
       "        text-align: right;\n",
       "    }\n",
       "</style>\n",
       "<table border=\"1\" class=\"dataframe\">\n",
       "  <thead>\n",
       "    <tr style=\"text-align: right;\">\n",
       "      <th></th>\n",
       "      <th>count</th>\n",
       "      <th>mean</th>\n",
       "      <th>std</th>\n",
       "      <th>min</th>\n",
       "      <th>25%</th>\n",
       "      <th>50%</th>\n",
       "      <th>75%</th>\n",
       "      <th>max</th>\n",
       "    </tr>\n",
       "  </thead>\n",
       "  <tbody>\n",
       "    <tr>\n",
       "      <th>rating</th>\n",
       "      <td>192462.0</td>\n",
       "      <td>9.092371</td>\n",
       "      <td>1.430044</td>\n",
       "      <td>2.0</td>\n",
       "      <td>8.0</td>\n",
       "      <td>10.0</td>\n",
       "      <td>10.0</td>\n",
       "      <td>10.0</td>\n",
       "    </tr>\n",
       "    <tr>\n",
       "      <th>size</th>\n",
       "      <td>192544.0</td>\n",
       "      <td>12.245175</td>\n",
       "      <td>8.494877</td>\n",
       "      <td>0.0</td>\n",
       "      <td>8.0</td>\n",
       "      <td>12.0</td>\n",
       "      <td>16.0</td>\n",
       "      <td>58.0</td>\n",
       "    </tr>\n",
       "    <tr>\n",
       "      <th>age</th>\n",
       "      <td>191584.0</td>\n",
       "      <td>33.871017</td>\n",
       "      <td>8.058083</td>\n",
       "      <td>0.0</td>\n",
       "      <td>29.0</td>\n",
       "      <td>32.0</td>\n",
       "      <td>37.0</td>\n",
       "      <td>117.0</td>\n",
       "    </tr>\n",
       "  </tbody>\n",
       "</table>\n",
       "</div>"
      ],
      "text/plain": [
       "           count       mean       std  min   25%   50%   75%    max\n",
       "rating  192462.0   9.092371  1.430044  2.0   8.0  10.0  10.0   10.0\n",
       "size    192544.0  12.245175  8.494877  0.0   8.0  12.0  16.0   58.0\n",
       "age     191584.0  33.871017  8.058083  0.0  29.0  32.0  37.0  117.0"
      ]
     },
     "execution_count": 133,
     "metadata": {},
     "output_type": "execute_result"
    }
   ],
   "source": [
    "df.describe().T"
   ]
  },
  {
   "cell_type": "markdown",
   "id": "4a9aba22",
   "metadata": {},
   "source": [
    "Observation: There are three numerical features. "
   ]
  },
  {
   "cell_type": "code",
   "execution_count": 134,
   "id": "8aae66ea",
   "metadata": {},
   "outputs": [
    {
     "data": {
      "image/png": "[encoded data removed]",
      "text/plain": [
       "<Figure size 1008x504 with 1 Axes>"
      ]
     },
     "metadata": {
      "needs_background": "light"
     },
     "output_type": "display_data"
    }
   ],
   "source": [
    "# Check outliers present in the column age? If yes, treat the data\n",
    "plt.figure(figsize=(14,7))\n",
    "sns.boxplot(x=df['age'])\n",
    "plt.title(\"Boxplot of age\", fontsize=15)\n",
    "plt.show()\n"
   ]
  },
  {
   "cell_type": "code",
   "execution_count": 135,
   "id": "9461550f",
   "metadata": {},
   "outputs": [
    {
     "data": {
      "text/plain": [
       "age\n",
       "0.0       9.333333\n",
       "1.0       9.000000\n",
       "2.0       9.800000\n",
       "3.0       9.500000\n",
       "4.0      10.000000\n",
       "           ...    \n",
       "112.0     8.000000\n",
       "113.0     8.000000\n",
       "115.0     8.000000\n",
       "116.0     9.444444\n",
       "117.0     9.384615\n",
       "Name: rating, Length: 89, dtype: float64"
      ]
     },
     "execution_count": 135,
     "metadata": {},
     "output_type": "execute_result"
    }
   ],
   "source": [
    "df.groupby('age').rating.mean()"
   ]
  },
  {
   "cell_type": "code",
   "execution_count": 136,
   "id": "456788b5",
   "metadata": {},
   "outputs": [
    {
     "data": {
      "text/html": [
       "<div>\n",
       "<style scoped>\n",
       "    .dataframe tbody tr th:only-of-type {\n",
       "        vertical-align: middle;\n",
       "    }\n",
       "\n",
       "    .dataframe tbody tr th {\n",
       "        vertical-align: top;\n",
       "    }\n",
       "\n",
       "    .dataframe thead th {\n",
       "        text-align: right;\n",
       "    }\n",
       "</style>\n",
       "<table border=\"1\" class=\"dataframe\">\n",
       "  <thead>\n",
       "    <tr style=\"text-align: right;\">\n",
       "      <th></th>\n",
       "      <th>count</th>\n",
       "      <th>mean</th>\n",
       "      <th>std</th>\n",
       "      <th>min</th>\n",
       "      <th>25%</th>\n",
       "      <th>50%</th>\n",
       "      <th>75%</th>\n",
       "      <th>max</th>\n",
       "    </tr>\n",
       "  </thead>\n",
       "  <tbody>\n",
       "    <tr>\n",
       "      <th>rating</th>\n",
       "      <td>67.0</td>\n",
       "      <td>9.253731</td>\n",
       "      <td>1.197767</td>\n",
       "      <td>4.0</td>\n",
       "      <td>8.0</td>\n",
       "      <td>10.0</td>\n",
       "      <td>10.0</td>\n",
       "      <td>10.0</td>\n",
       "    </tr>\n",
       "    <tr>\n",
       "      <th>size</th>\n",
       "      <td>67.0</td>\n",
       "      <td>10.776119</td>\n",
       "      <td>11.213927</td>\n",
       "      <td>0.0</td>\n",
       "      <td>4.0</td>\n",
       "      <td>8.0</td>\n",
       "      <td>16.0</td>\n",
       "      <td>51.0</td>\n",
       "    </tr>\n",
       "    <tr>\n",
       "      <th>age</th>\n",
       "      <td>67.0</td>\n",
       "      <td>115.328358</td>\n",
       "      <td>3.783489</td>\n",
       "      <td>100.0</td>\n",
       "      <td>116.0</td>\n",
       "      <td>117.0</td>\n",
       "      <td>117.0</td>\n",
       "      <td>117.0</td>\n",
       "    </tr>\n",
       "  </tbody>\n",
       "</table>\n",
       "</div>"
      ],
      "text/plain": [
       "        count        mean        std    min    25%    50%    75%    max\n",
       "rating   67.0    9.253731   1.197767    4.0    8.0   10.0   10.0   10.0\n",
       "size     67.0   10.776119  11.213927    0.0    4.0    8.0   16.0   51.0\n",
       "age      67.0  115.328358   3.783489  100.0  116.0  117.0  117.0  117.0"
      ]
     },
     "execution_count": 136,
     "metadata": {},
     "output_type": "execute_result"
    }
   ],
   "source": [
    "# Check statastics of numerical features for age >= 100 and drop the data\n",
    "df[df.age >= 100].describe().T"
   ]
  },
  {
   "cell_type": "code",
   "execution_count": 137,
   "id": "61b448e5",
   "metadata": {},
   "outputs": [],
   "source": [
    "df.drop(df[df['age'] >= 100].index, inplace = True)"
   ]
  },
  {
   "cell_type": "code",
   "execution_count": 138,
   "id": "5cf4d0c1",
   "metadata": {},
   "outputs": [
    {
     "data": {
      "text/html": [
       "<div>\n",
       "<style scoped>\n",
       "    .dataframe tbody tr th:only-of-type {\n",
       "        vertical-align: middle;\n",
       "    }\n",
       "\n",
       "    .dataframe tbody tr th {\n",
       "        vertical-align: top;\n",
       "    }\n",
       "\n",
       "    .dataframe thead th {\n",
       "        text-align: right;\n",
       "    }\n",
       "</style>\n",
       "<table border=\"1\" class=\"dataframe\">\n",
       "  <thead>\n",
       "    <tr style=\"text-align: right;\">\n",
       "      <th></th>\n",
       "      <th>count</th>\n",
       "      <th>mean</th>\n",
       "      <th>std</th>\n",
       "      <th>min</th>\n",
       "      <th>25%</th>\n",
       "      <th>50%</th>\n",
       "      <th>75%</th>\n",
       "      <th>max</th>\n",
       "    </tr>\n",
       "  </thead>\n",
       "  <tbody>\n",
       "    <tr>\n",
       "      <th>rating</th>\n",
       "      <td>548.0</td>\n",
       "      <td>9.109489</td>\n",
       "      <td>1.484491</td>\n",
       "      <td>2.0</td>\n",
       "      <td>8.0</td>\n",
       "      <td>10.0</td>\n",
       "      <td>10.0</td>\n",
       "      <td>10.0</td>\n",
       "    </tr>\n",
       "    <tr>\n",
       "      <th>size</th>\n",
       "      <td>548.0</td>\n",
       "      <td>16.998175</td>\n",
       "      <td>9.723696</td>\n",
       "      <td>1.0</td>\n",
       "      <td>8.0</td>\n",
       "      <td>16.0</td>\n",
       "      <td>24.0</td>\n",
       "      <td>57.0</td>\n",
       "    </tr>\n",
       "    <tr>\n",
       "      <th>age</th>\n",
       "      <td>548.0</td>\n",
       "      <td>68.791971</td>\n",
       "      <td>5.655284</td>\n",
       "      <td>65.0</td>\n",
       "      <td>66.0</td>\n",
       "      <td>67.0</td>\n",
       "      <td>69.0</td>\n",
       "      <td>99.0</td>\n",
       "    </tr>\n",
       "  </tbody>\n",
       "</table>\n",
       "</div>"
      ],
      "text/plain": [
       "        count       mean       std   min   25%   50%   75%   max\n",
       "rating  548.0   9.109489  1.484491   2.0   8.0  10.0  10.0  10.0\n",
       "size    548.0  16.998175  9.723696   1.0   8.0  16.0  24.0  57.0\n",
       "age     548.0  68.791971  5.655284  65.0  66.0  67.0  69.0  99.0"
      ]
     },
     "execution_count": 138,
     "metadata": {},
     "output_type": "execute_result"
    }
   ],
   "source": [
    "# Check statastics of numerical features for age >= 65 and drop the data\n",
    "df[df.age >= 65].describe().T"
   ]
  },
  {
   "cell_type": "code",
   "execution_count": 139,
   "id": "7f2e73f8",
   "metadata": {},
   "outputs": [],
   "source": [
    "df.drop(df[df['age'] >= 65].index, inplace = True)"
   ]
  },
  {
   "cell_type": "code",
   "execution_count": 140,
   "id": "2727d059",
   "metadata": {},
   "outputs": [
    {
     "data": {
      "text/html": [
       "<div>\n",
       "<style scoped>\n",
       "    .dataframe tbody tr th:only-of-type {\n",
       "        vertical-align: middle;\n",
       "    }\n",
       "\n",
       "    .dataframe tbody tr th {\n",
       "        vertical-align: top;\n",
       "    }\n",
       "\n",
       "    .dataframe thead th {\n",
       "        text-align: right;\n",
       "    }\n",
       "</style>\n",
       "<table border=\"1\" class=\"dataframe\">\n",
       "  <thead>\n",
       "    <tr style=\"text-align: right;\">\n",
       "      <th></th>\n",
       "      <th>fit</th>\n",
       "      <th>bust size</th>\n",
       "      <th>weight</th>\n",
       "      <th>rating</th>\n",
       "      <th>rented for</th>\n",
       "      <th>body type</th>\n",
       "      <th>category</th>\n",
       "      <th>height</th>\n",
       "      <th>size</th>\n",
       "      <th>age</th>\n",
       "    </tr>\n",
       "  </thead>\n",
       "  <tbody>\n",
       "    <tr>\n",
       "      <th>68406</th>\n",
       "      <td>fit</td>\n",
       "      <td>34c</td>\n",
       "      <td>140lbs</td>\n",
       "      <td>8.0</td>\n",
       "      <td>party</td>\n",
       "      <td>NaN</td>\n",
       "      <td>dress</td>\n",
       "      <td>5' 8\"</td>\n",
       "      <td>16</td>\n",
       "      <td>15.0</td>\n",
       "    </tr>\n",
       "    <tr>\n",
       "      <th>2029</th>\n",
       "      <td>fit</td>\n",
       "      <td>34b</td>\n",
       "      <td>125lbs</td>\n",
       "      <td>10.0</td>\n",
       "      <td>other</td>\n",
       "      <td>straight &amp; narrow</td>\n",
       "      <td>dress</td>\n",
       "      <td>5' 7\"</td>\n",
       "      <td>4</td>\n",
       "      <td>0.0</td>\n",
       "    </tr>\n",
       "    <tr>\n",
       "      <th>174085</th>\n",
       "      <td>large</td>\n",
       "      <td>32b</td>\n",
       "      <td>125lbs</td>\n",
       "      <td>10.0</td>\n",
       "      <td>formal affair</td>\n",
       "      <td>NaN</td>\n",
       "      <td>dress</td>\n",
       "      <td>5' 9\"</td>\n",
       "      <td>4</td>\n",
       "      <td>16.0</td>\n",
       "    </tr>\n",
       "    <tr>\n",
       "      <th>169454</th>\n",
       "      <td>fit</td>\n",
       "      <td>32c</td>\n",
       "      <td>120lbs</td>\n",
       "      <td>10.0</td>\n",
       "      <td>other</td>\n",
       "      <td>athletic</td>\n",
       "      <td>dress</td>\n",
       "      <td>5' 3\"</td>\n",
       "      <td>4</td>\n",
       "      <td>16.0</td>\n",
       "    </tr>\n",
       "    <tr>\n",
       "      <th>132229</th>\n",
       "      <td>fit</td>\n",
       "      <td>NaN</td>\n",
       "      <td>110lbs</td>\n",
       "      <td>10.0</td>\n",
       "      <td>wedding</td>\n",
       "      <td>hourglass</td>\n",
       "      <td>gown</td>\n",
       "      <td>5' 5\"</td>\n",
       "      <td>4</td>\n",
       "      <td>4.0</td>\n",
       "    </tr>\n",
       "    <tr>\n",
       "      <th>179206</th>\n",
       "      <td>fit</td>\n",
       "      <td>32c</td>\n",
       "      <td>120lbs</td>\n",
       "      <td>10.0</td>\n",
       "      <td>formal affair</td>\n",
       "      <td>athletic</td>\n",
       "      <td>dress</td>\n",
       "      <td>5' 5\"</td>\n",
       "      <td>4</td>\n",
       "      <td>16.0</td>\n",
       "    </tr>\n",
       "    <tr>\n",
       "      <th>112861</th>\n",
       "      <td>large</td>\n",
       "      <td>34dd</td>\n",
       "      <td>150lbs</td>\n",
       "      <td>8.0</td>\n",
       "      <td>formal affair</td>\n",
       "      <td>full bust</td>\n",
       "      <td>dress</td>\n",
       "      <td>5' 5\"</td>\n",
       "      <td>24</td>\n",
       "      <td>16.0</td>\n",
       "    </tr>\n",
       "    <tr>\n",
       "      <th>107849</th>\n",
       "      <td>fit</td>\n",
       "      <td>32b</td>\n",
       "      <td>110lbs</td>\n",
       "      <td>10.0</td>\n",
       "      <td>other</td>\n",
       "      <td>petite</td>\n",
       "      <td>dress</td>\n",
       "      <td>5' 6\"</td>\n",
       "      <td>1</td>\n",
       "      <td>16.0</td>\n",
       "    </tr>\n",
       "    <tr>\n",
       "      <th>135714</th>\n",
       "      <td>small</td>\n",
       "      <td>38d</td>\n",
       "      <td>NaN</td>\n",
       "      <td>10.0</td>\n",
       "      <td>formal affair</td>\n",
       "      <td>hourglass</td>\n",
       "      <td>gown</td>\n",
       "      <td>5' 3\"</td>\n",
       "      <td>51</td>\n",
       "      <td>15.0</td>\n",
       "    </tr>\n",
       "    <tr>\n",
       "      <th>109264</th>\n",
       "      <td>fit</td>\n",
       "      <td>NaN</td>\n",
       "      <td>110lbs</td>\n",
       "      <td>10.0</td>\n",
       "      <td>formal affair</td>\n",
       "      <td>hourglass</td>\n",
       "      <td>sheath</td>\n",
       "      <td>5' 5\"</td>\n",
       "      <td>8</td>\n",
       "      <td>4.0</td>\n",
       "    </tr>\n",
       "    <tr>\n",
       "      <th>8354</th>\n",
       "      <td>fit</td>\n",
       "      <td>30b</td>\n",
       "      <td>134lbs</td>\n",
       "      <td>10.0</td>\n",
       "      <td>formal affair</td>\n",
       "      <td>hourglass</td>\n",
       "      <td>gown</td>\n",
       "      <td>NaN</td>\n",
       "      <td>12</td>\n",
       "      <td>16.0</td>\n",
       "    </tr>\n",
       "    <tr>\n",
       "      <th>69782</th>\n",
       "      <td>fit</td>\n",
       "      <td>NaN</td>\n",
       "      <td>150lbs</td>\n",
       "      <td>10.0</td>\n",
       "      <td>work</td>\n",
       "      <td>straight &amp; narrow</td>\n",
       "      <td>down</td>\n",
       "      <td>5' 8\"</td>\n",
       "      <td>8</td>\n",
       "      <td>5.0</td>\n",
       "    </tr>\n",
       "    <tr>\n",
       "      <th>2952</th>\n",
       "      <td>fit</td>\n",
       "      <td>36c</td>\n",
       "      <td>160lbs</td>\n",
       "      <td>10.0</td>\n",
       "      <td>party</td>\n",
       "      <td>hourglass</td>\n",
       "      <td>gown</td>\n",
       "      <td>5' 10\"</td>\n",
       "      <td>15</td>\n",
       "      <td>16.0</td>\n",
       "    </tr>\n",
       "    <tr>\n",
       "      <th>115125</th>\n",
       "      <td>large</td>\n",
       "      <td>34b</td>\n",
       "      <td>114lbs</td>\n",
       "      <td>2.0</td>\n",
       "      <td>everyday</td>\n",
       "      <td>hourglass</td>\n",
       "      <td>maxi</td>\n",
       "      <td>5' 2\"</td>\n",
       "      <td>1</td>\n",
       "      <td>16.0</td>\n",
       "    </tr>\n",
       "    <tr>\n",
       "      <th>163693</th>\n",
       "      <td>fit</td>\n",
       "      <td>34dd</td>\n",
       "      <td>125lbs</td>\n",
       "      <td>10.0</td>\n",
       "      <td>work</td>\n",
       "      <td>hourglass</td>\n",
       "      <td>blouse</td>\n",
       "      <td>5' 7\"</td>\n",
       "      <td>14</td>\n",
       "      <td>0.0</td>\n",
       "    </tr>\n",
       "  </tbody>\n",
       "</table>\n",
       "</div>"
      ],
      "text/plain": [
       "          fit bust size  weight  rating     rented for          body type  \\\n",
       "68406     fit       34c  140lbs     8.0          party                NaN   \n",
       "2029      fit       34b  125lbs    10.0          other  straight & narrow   \n",
       "174085  large       32b  125lbs    10.0  formal affair                NaN   \n",
       "169454    fit       32c  120lbs    10.0          other           athletic   \n",
       "132229    fit       NaN  110lbs    10.0        wedding          hourglass   \n",
       "179206    fit       32c  120lbs    10.0  formal affair           athletic   \n",
       "112861  large      34dd  150lbs     8.0  formal affair          full bust   \n",
       "107849    fit       32b  110lbs    10.0          other             petite   \n",
       "135714  small       38d     NaN    10.0  formal affair          hourglass   \n",
       "109264    fit       NaN  110lbs    10.0  formal affair          hourglass   \n",
       "8354      fit       30b  134lbs    10.0  formal affair          hourglass   \n",
       "69782     fit       NaN  150lbs    10.0           work  straight & narrow   \n",
       "2952      fit       36c  160lbs    10.0          party          hourglass   \n",
       "115125  large       34b  114lbs     2.0       everyday          hourglass   \n",
       "163693    fit      34dd  125lbs    10.0           work          hourglass   \n",
       "\n",
       "       category  height  size   age  \n",
       "68406     dress   5' 8\"    16  15.0  \n",
       "2029      dress   5' 7\"     4   0.0  \n",
       "174085    dress   5' 9\"     4  16.0  \n",
       "169454    dress   5' 3\"     4  16.0  \n",
       "132229     gown   5' 5\"     4   4.0  \n",
       "179206    dress   5' 5\"     4  16.0  \n",
       "112861    dress   5' 5\"    24  16.0  \n",
       "107849    dress   5' 6\"     1  16.0  \n",
       "135714     gown   5' 3\"    51  15.0  \n",
       "109264   sheath   5' 5\"     8   4.0  \n",
       "8354       gown     NaN    12  16.0  \n",
       "69782      down   5' 8\"     8   5.0  \n",
       "2952       gown  5' 10\"    15  16.0  \n",
       "115125     maxi   5' 2\"     1  16.0  \n",
       "163693   blouse   5' 7\"    14   0.0  "
      ]
     },
     "execution_count": 140,
     "metadata": {},
     "output_type": "execute_result"
    }
   ],
   "source": [
    "# Check the samples and statastics of numerical features for age <= 10 and drop the data\n",
    "df[df.age <= 16].sample(15)"
   ]
  },
  {
   "cell_type": "code",
   "execution_count": 141,
   "id": "cc9422de",
   "metadata": {},
   "outputs": [
    {
     "data": {
      "text/html": [
       "<div>\n",
       "<style scoped>\n",
       "    .dataframe tbody tr th:only-of-type {\n",
       "        vertical-align: middle;\n",
       "    }\n",
       "\n",
       "    .dataframe tbody tr th {\n",
       "        vertical-align: top;\n",
       "    }\n",
       "\n",
       "    .dataframe thead th {\n",
       "        text-align: right;\n",
       "    }\n",
       "</style>\n",
       "<table border=\"1\" class=\"dataframe\">\n",
       "  <thead>\n",
       "    <tr style=\"text-align: right;\">\n",
       "      <th></th>\n",
       "      <th>count</th>\n",
       "      <th>mean</th>\n",
       "      <th>std</th>\n",
       "      <th>min</th>\n",
       "      <th>25%</th>\n",
       "      <th>50%</th>\n",
       "      <th>75%</th>\n",
       "      <th>max</th>\n",
       "    </tr>\n",
       "  </thead>\n",
       "  <tbody>\n",
       "    <tr>\n",
       "      <th>rating</th>\n",
       "      <td>134.0</td>\n",
       "      <td>9.447761</td>\n",
       "      <td>1.306819</td>\n",
       "      <td>2.0</td>\n",
       "      <td>10.0</td>\n",
       "      <td>10.0</td>\n",
       "      <td>10.00</td>\n",
       "      <td>10.0</td>\n",
       "    </tr>\n",
       "    <tr>\n",
       "      <th>size</th>\n",
       "      <td>134.0</td>\n",
       "      <td>11.223881</td>\n",
       "      <td>9.473066</td>\n",
       "      <td>0.0</td>\n",
       "      <td>4.0</td>\n",
       "      <td>8.0</td>\n",
       "      <td>15.75</td>\n",
       "      <td>51.0</td>\n",
       "    </tr>\n",
       "    <tr>\n",
       "      <th>age</th>\n",
       "      <td>134.0</td>\n",
       "      <td>9.149254</td>\n",
       "      <td>6.880841</td>\n",
       "      <td>0.0</td>\n",
       "      <td>2.0</td>\n",
       "      <td>14.0</td>\n",
       "      <td>16.00</td>\n",
       "      <td>16.0</td>\n",
       "    </tr>\n",
       "  </tbody>\n",
       "</table>\n",
       "</div>"
      ],
      "text/plain": [
       "        count       mean       std  min   25%   50%    75%   max\n",
       "rating  134.0   9.447761  1.306819  2.0  10.0  10.0  10.00  10.0\n",
       "size    134.0  11.223881  9.473066  0.0   4.0   8.0  15.75  51.0\n",
       "age     134.0   9.149254  6.880841  0.0   2.0  14.0  16.00  16.0"
      ]
     },
     "execution_count": 141,
     "metadata": {},
     "output_type": "execute_result"
    }
   ],
   "source": [
    "df[df.age <= 16].describe().T"
   ]
  },
  {
   "cell_type": "code",
   "execution_count": 142,
   "id": "f022bdfa",
   "metadata": {},
   "outputs": [],
   "source": [
    "df.drop(df[df['age'] <= 16].index, inplace = True)"
   ]
  },
  {
   "cell_type": "code",
   "execution_count": 143,
   "id": "7fb4a0f5",
   "metadata": {},
   "outputs": [
    {
     "data": {
      "image/png": "[encoded data removed]",
      "text/plain": [
       "<Figure size 1008x504 with 1 Axes>"
      ]
     },
     "metadata": {
      "needs_background": "light"
     },
     "output_type": "display_data"
    }
   ],
   "source": [
    "# Check outliers present in the column age? If yes, treat the data\n",
    "plt.figure(figsize=(14,7))\n",
    "sns.boxplot(x=df['age'])\n",
    "plt.title(\"Boxplot of age\", fontsize=15)\n",
    "plt.show()"
   ]
  },
  {
   "cell_type": "code",
   "execution_count": 144,
   "id": "28a0c586",
   "metadata": {},
   "outputs": [
    {
     "data": {
      "image/png": "[encoded data removed]",
      "text/plain": [
       "<Figure size 1008x504 with 1 Axes>"
      ]
     },
     "metadata": {
      "needs_background": "light"
     },
     "output_type": "display_data"
    }
   ],
   "source": [
    "# Check the possible sizes in this dataset\n",
    "plt.figure(figsize=(14,7))\n",
    "sns.countplot(data=df,x='size', palette='pastel')\n",
    "plt.show()"
   ]
  },
  {
   "cell_type": "code",
   "execution_count": 145,
   "id": "4f2e2aeb",
   "metadata": {},
   "outputs": [
    {
     "data": {
      "text/html": [
       "<div>\n",
       "<style scoped>\n",
       "    .dataframe tbody tr th:only-of-type {\n",
       "        vertical-align: middle;\n",
       "    }\n",
       "\n",
       "    .dataframe tbody tr th {\n",
       "        vertical-align: top;\n",
       "    }\n",
       "\n",
       "    .dataframe thead th {\n",
       "        text-align: right;\n",
       "    }\n",
       "</style>\n",
       "<table border=\"1\" class=\"dataframe\">\n",
       "  <thead>\n",
       "    <tr style=\"text-align: right;\">\n",
       "      <th></th>\n",
       "      <th>count</th>\n",
       "      <th>mean</th>\n",
       "      <th>std</th>\n",
       "      <th>min</th>\n",
       "      <th>25%</th>\n",
       "      <th>50%</th>\n",
       "      <th>75%</th>\n",
       "      <th>max</th>\n",
       "    </tr>\n",
       "  </thead>\n",
       "  <tbody>\n",
       "    <tr>\n",
       "      <th>age</th>\n",
       "      <td>190835.0</td>\n",
       "      <td>33.759499</td>\n",
       "      <td>7.667132</td>\n",
       "      <td>17.0</td>\n",
       "      <td>29.0</td>\n",
       "      <td>32.0</td>\n",
       "      <td>37.0</td>\n",
       "      <td>64.0</td>\n",
       "    </tr>\n",
       "    <tr>\n",
       "      <th>rating</th>\n",
       "      <td>191713.0</td>\n",
       "      <td>9.092018</td>\n",
       "      <td>1.430018</td>\n",
       "      <td>2.0</td>\n",
       "      <td>8.0</td>\n",
       "      <td>10.0</td>\n",
       "      <td>10.0</td>\n",
       "      <td>10.0</td>\n",
       "    </tr>\n",
       "  </tbody>\n",
       "</table>\n",
       "</div>"
      ],
      "text/plain": [
       "           count       mean       std   min   25%   50%   75%   max\n",
       "age     190835.0  33.759499  7.667132  17.0  29.0  32.0  37.0  64.0\n",
       "rating  191713.0   9.092018  1.430018   2.0   8.0  10.0  10.0  10.0"
      ]
     },
     "execution_count": 145,
     "metadata": {},
     "output_type": "execute_result"
    }
   ],
   "source": [
    "df[['age','rating']].describe().T"
   ]
  },
  {
   "cell_type": "code",
   "execution_count": 146,
   "id": "ccf4e174",
   "metadata": {},
   "outputs": [
    {
     "data": {
      "text/plain": [
       "fit               0\n",
       "bust size     18329\n",
       "weight        29894\n",
       "rating           82\n",
       "rented for       10\n",
       "body type     14593\n",
       "category          0\n",
       "height          672\n",
       "size              0\n",
       "age             960\n",
       "dtype: int64"
      ]
     },
     "execution_count": 146,
     "metadata": {},
     "output_type": "execute_result"
    }
   ],
   "source": [
    "df.isnull().sum()"
   ]
  },
  {
   "cell_type": "code",
   "execution_count": 147,
   "id": "88e74fac",
   "metadata": {},
   "outputs": [],
   "source": [
    "#  fill the place of nulls with median for age and rating\n",
    "df['age'].fillna(df['age'].median(), inplace=True)\n",
    "df['rating'].fillna(df['rating'].median(), inplace=True)"
   ]
  },
  {
   "cell_type": "code",
   "execution_count": 148,
   "id": "46c5106e",
   "metadata": {},
   "outputs": [
    {
     "data": {
      "text/plain": [
       "fit               0\n",
       "bust size     18329\n",
       "weight        29894\n",
       "rating            0\n",
       "rented for       10\n",
       "body type     14593\n",
       "category          0\n",
       "height          672\n",
       "size              0\n",
       "age               0\n",
       "dtype: int64"
      ]
     },
     "execution_count": 148,
     "metadata": {},
     "output_type": "execute_result"
    }
   ],
   "source": [
    "df.isnull().sum()"
   ]
  },
  {
   "cell_type": "code",
   "execution_count": 149,
   "id": "f0c69e06",
   "metadata": {},
   "outputs": [
    {
     "data": {
      "text/html": [
       "<div>\n",
       "<style scoped>\n",
       "    .dataframe tbody tr th:only-of-type {\n",
       "        vertical-align: middle;\n",
       "    }\n",
       "\n",
       "    .dataframe tbody tr th {\n",
       "        vertical-align: top;\n",
       "    }\n",
       "\n",
       "    .dataframe thead th {\n",
       "        text-align: right;\n",
       "    }\n",
       "</style>\n",
       "<table border=\"1\" class=\"dataframe\">\n",
       "  <thead>\n",
       "    <tr style=\"text-align: right;\">\n",
       "      <th></th>\n",
       "      <th>fit</th>\n",
       "      <th>bust size</th>\n",
       "      <th>weight</th>\n",
       "      <th>rating</th>\n",
       "      <th>rented for</th>\n",
       "      <th>body type</th>\n",
       "      <th>category</th>\n",
       "      <th>height</th>\n",
       "      <th>size</th>\n",
       "      <th>age</th>\n",
       "    </tr>\n",
       "  </thead>\n",
       "  <tbody>\n",
       "    <tr>\n",
       "      <th>0</th>\n",
       "      <td>fit</td>\n",
       "      <td>34d</td>\n",
       "      <td>137lbs</td>\n",
       "      <td>10.0</td>\n",
       "      <td>vacation</td>\n",
       "      <td>hourglass</td>\n",
       "      <td>romper</td>\n",
       "      <td>5' 8\"</td>\n",
       "      <td>14</td>\n",
       "      <td>28.0</td>\n",
       "    </tr>\n",
       "    <tr>\n",
       "      <th>1</th>\n",
       "      <td>fit</td>\n",
       "      <td>34b</td>\n",
       "      <td>132lbs</td>\n",
       "      <td>10.0</td>\n",
       "      <td>other</td>\n",
       "      <td>straight &amp; narrow</td>\n",
       "      <td>gown</td>\n",
       "      <td>5' 6\"</td>\n",
       "      <td>12</td>\n",
       "      <td>36.0</td>\n",
       "    </tr>\n",
       "    <tr>\n",
       "      <th>3</th>\n",
       "      <td>fit</td>\n",
       "      <td>34c</td>\n",
       "      <td>135lbs</td>\n",
       "      <td>8.0</td>\n",
       "      <td>formal affair</td>\n",
       "      <td>pear</td>\n",
       "      <td>dress</td>\n",
       "      <td>5' 5\"</td>\n",
       "      <td>8</td>\n",
       "      <td>34.0</td>\n",
       "    </tr>\n",
       "    <tr>\n",
       "      <th>4</th>\n",
       "      <td>fit</td>\n",
       "      <td>34b</td>\n",
       "      <td>145lbs</td>\n",
       "      <td>10.0</td>\n",
       "      <td>wedding</td>\n",
       "      <td>athletic</td>\n",
       "      <td>gown</td>\n",
       "      <td>5' 9\"</td>\n",
       "      <td>12</td>\n",
       "      <td>27.0</td>\n",
       "    </tr>\n",
       "    <tr>\n",
       "      <th>5</th>\n",
       "      <td>fit</td>\n",
       "      <td>32b</td>\n",
       "      <td>138lbs</td>\n",
       "      <td>8.0</td>\n",
       "      <td>date</td>\n",
       "      <td>athletic</td>\n",
       "      <td>dress</td>\n",
       "      <td>5' 8\"</td>\n",
       "      <td>8</td>\n",
       "      <td>45.0</td>\n",
       "    </tr>\n",
       "  </tbody>\n",
       "</table>\n",
       "</div>"
      ],
      "text/plain": [
       "   fit bust size  weight  rating     rented for          body type category  \\\n",
       "0  fit       34d  137lbs    10.0       vacation          hourglass   romper   \n",
       "1  fit       34b  132lbs    10.0          other  straight & narrow     gown   \n",
       "3  fit       34c  135lbs     8.0  formal affair               pear    dress   \n",
       "4  fit       34b  145lbs    10.0        wedding           athletic     gown   \n",
       "5  fit       32b  138lbs     8.0           date           athletic    dress   \n",
       "\n",
       "  height  size   age  \n",
       "0  5' 8\"    14  28.0  \n",
       "1  5' 6\"    12  36.0  \n",
       "3  5' 5\"     8  34.0  \n",
       "4  5' 9\"    12  27.0  \n",
       "5  5' 8\"     8  45.0  "
      ]
     },
     "execution_count": 149,
     "metadata": {},
     "output_type": "execute_result"
    }
   ],
   "source": [
    "df.head(5)"
   ]
  },
  {
   "cell_type": "code",
   "execution_count": 150,
   "id": "3d8ddcb9",
   "metadata": {},
   "outputs": [],
   "source": [
    "# Check the column 'weight' and remove the string data and convert to float\n",
    "df[\"weight\"] = df[\"weight\"].str.extract(\"([0-9]+)\", expand=True).apply(pd.to_numeric)"
   ]
  },
  {
   "cell_type": "code",
   "execution_count": 151,
   "id": "6435ccef",
   "metadata": {},
   "outputs": [
    {
     "data": {
      "text/html": [
       "<div>\n",
       "<style scoped>\n",
       "    .dataframe tbody tr th:only-of-type {\n",
       "        vertical-align: middle;\n",
       "    }\n",
       "\n",
       "    .dataframe tbody tr th {\n",
       "        vertical-align: top;\n",
       "    }\n",
       "\n",
       "    .dataframe thead th {\n",
       "        text-align: right;\n",
       "    }\n",
       "</style>\n",
       "<table border=\"1\" class=\"dataframe\">\n",
       "  <thead>\n",
       "    <tr style=\"text-align: right;\">\n",
       "      <th></th>\n",
       "      <th>fit</th>\n",
       "      <th>bust size</th>\n",
       "      <th>weight</th>\n",
       "      <th>rating</th>\n",
       "      <th>rented for</th>\n",
       "      <th>body type</th>\n",
       "      <th>category</th>\n",
       "      <th>height</th>\n",
       "      <th>size</th>\n",
       "      <th>age</th>\n",
       "    </tr>\n",
       "  </thead>\n",
       "  <tbody>\n",
       "    <tr>\n",
       "      <th>0</th>\n",
       "      <td>fit</td>\n",
       "      <td>34d</td>\n",
       "      <td>137.0</td>\n",
       "      <td>10.0</td>\n",
       "      <td>vacation</td>\n",
       "      <td>hourglass</td>\n",
       "      <td>romper</td>\n",
       "      <td>5' 8\"</td>\n",
       "      <td>14</td>\n",
       "      <td>28.0</td>\n",
       "    </tr>\n",
       "    <tr>\n",
       "      <th>1</th>\n",
       "      <td>fit</td>\n",
       "      <td>34b</td>\n",
       "      <td>132.0</td>\n",
       "      <td>10.0</td>\n",
       "      <td>other</td>\n",
       "      <td>straight &amp; narrow</td>\n",
       "      <td>gown</td>\n",
       "      <td>5' 6\"</td>\n",
       "      <td>12</td>\n",
       "      <td>36.0</td>\n",
       "    </tr>\n",
       "    <tr>\n",
       "      <th>3</th>\n",
       "      <td>fit</td>\n",
       "      <td>34c</td>\n",
       "      <td>135.0</td>\n",
       "      <td>8.0</td>\n",
       "      <td>formal affair</td>\n",
       "      <td>pear</td>\n",
       "      <td>dress</td>\n",
       "      <td>5' 5\"</td>\n",
       "      <td>8</td>\n",
       "      <td>34.0</td>\n",
       "    </tr>\n",
       "    <tr>\n",
       "      <th>4</th>\n",
       "      <td>fit</td>\n",
       "      <td>34b</td>\n",
       "      <td>145.0</td>\n",
       "      <td>10.0</td>\n",
       "      <td>wedding</td>\n",
       "      <td>athletic</td>\n",
       "      <td>gown</td>\n",
       "      <td>5' 9\"</td>\n",
       "      <td>12</td>\n",
       "      <td>27.0</td>\n",
       "    </tr>\n",
       "    <tr>\n",
       "      <th>5</th>\n",
       "      <td>fit</td>\n",
       "      <td>32b</td>\n",
       "      <td>138.0</td>\n",
       "      <td>8.0</td>\n",
       "      <td>date</td>\n",
       "      <td>athletic</td>\n",
       "      <td>dress</td>\n",
       "      <td>5' 8\"</td>\n",
       "      <td>8</td>\n",
       "      <td>45.0</td>\n",
       "    </tr>\n",
       "  </tbody>\n",
       "</table>\n",
       "</div>"
      ],
      "text/plain": [
       "   fit bust size  weight  rating     rented for          body type category  \\\n",
       "0  fit       34d   137.0    10.0       vacation          hourglass   romper   \n",
       "1  fit       34b   132.0    10.0          other  straight & narrow     gown   \n",
       "3  fit       34c   135.0     8.0  formal affair               pear    dress   \n",
       "4  fit       34b   145.0    10.0        wedding           athletic     gown   \n",
       "5  fit       32b   138.0     8.0           date           athletic    dress   \n",
       "\n",
       "  height  size   age  \n",
       "0  5' 8\"    14  28.0  \n",
       "1  5' 6\"    12  36.0  \n",
       "3  5' 5\"     8  34.0  \n",
       "4  5' 9\"    12  27.0  \n",
       "5  5' 8\"     8  45.0  "
      ]
     },
     "execution_count": 151,
     "metadata": {},
     "output_type": "execute_result"
    }
   ],
   "source": [
    "df.head(5)"
   ]
  },
  {
   "cell_type": "code",
   "execution_count": 152,
   "id": "8c4177ce",
   "metadata": {},
   "outputs": [],
   "source": [
    "# Check the column 'height' and convert to inches with float datatype.\n",
    "# function to convert height into inches\n",
    "\n",
    "def to_inch(height):\n",
    "  #extracting the numerical strings from the height values (of the form ft' in'')\n",
    "  height = height.str.extractall(\"([0-9]+)\").reset_index()\n",
    "  \n",
    "  #creating two  new Series objects by extracting in height Series\n",
    " \n",
    "  feet = (height[\"match\"] == 0)\n",
    "  inch = (height[\"match\"] == 1)\n",
    "  #converting the feet and inch into numeric and multiplying feet by 12\n",
    "  feet_changed = height[feet].drop([\"level_0\", \"match\"], axis=1).reset_index(drop=True).apply(pd.to_numeric) * 12\n",
    "  inch_changed = height[inch].drop(['level_0','match'], axis=1).reset_index(drop=True).apply(pd.to_numeric)\n",
    "  #adding the converted featrures and return them \n",
    "  return feet_changed + inch_changed\n",
    "\n",
    "#running the function on the height column\n",
    "df['height']=to_inch(df['height'])"
   ]
  },
  {
   "cell_type": "code",
   "execution_count": 153,
   "id": "6eb84a93",
   "metadata": {},
   "outputs": [
    {
     "data": {
      "text/html": [
       "<div>\n",
       "<style scoped>\n",
       "    .dataframe tbody tr th:only-of-type {\n",
       "        vertical-align: middle;\n",
       "    }\n",
       "\n",
       "    .dataframe tbody tr th {\n",
       "        vertical-align: top;\n",
       "    }\n",
       "\n",
       "    .dataframe thead th {\n",
       "        text-align: right;\n",
       "    }\n",
       "</style>\n",
       "<table border=\"1\" class=\"dataframe\">\n",
       "  <thead>\n",
       "    <tr style=\"text-align: right;\">\n",
       "      <th></th>\n",
       "      <th>fit</th>\n",
       "      <th>bust size</th>\n",
       "      <th>weight</th>\n",
       "      <th>rating</th>\n",
       "      <th>rented for</th>\n",
       "      <th>body type</th>\n",
       "      <th>category</th>\n",
       "      <th>height</th>\n",
       "      <th>size</th>\n",
       "      <th>age</th>\n",
       "    </tr>\n",
       "  </thead>\n",
       "  <tbody>\n",
       "    <tr>\n",
       "      <th>0</th>\n",
       "      <td>fit</td>\n",
       "      <td>34d</td>\n",
       "      <td>137.0</td>\n",
       "      <td>10.0</td>\n",
       "      <td>vacation</td>\n",
       "      <td>hourglass</td>\n",
       "      <td>romper</td>\n",
       "      <td>68.0</td>\n",
       "      <td>14</td>\n",
       "      <td>28.0</td>\n",
       "    </tr>\n",
       "    <tr>\n",
       "      <th>1</th>\n",
       "      <td>fit</td>\n",
       "      <td>34b</td>\n",
       "      <td>132.0</td>\n",
       "      <td>10.0</td>\n",
       "      <td>other</td>\n",
       "      <td>straight &amp; narrow</td>\n",
       "      <td>gown</td>\n",
       "      <td>66.0</td>\n",
       "      <td>12</td>\n",
       "      <td>36.0</td>\n",
       "    </tr>\n",
       "    <tr>\n",
       "      <th>3</th>\n",
       "      <td>fit</td>\n",
       "      <td>34c</td>\n",
       "      <td>135.0</td>\n",
       "      <td>8.0</td>\n",
       "      <td>formal affair</td>\n",
       "      <td>pear</td>\n",
       "      <td>dress</td>\n",
       "      <td>69.0</td>\n",
       "      <td>8</td>\n",
       "      <td>34.0</td>\n",
       "    </tr>\n",
       "    <tr>\n",
       "      <th>4</th>\n",
       "      <td>fit</td>\n",
       "      <td>34b</td>\n",
       "      <td>145.0</td>\n",
       "      <td>10.0</td>\n",
       "      <td>wedding</td>\n",
       "      <td>athletic</td>\n",
       "      <td>gown</td>\n",
       "      <td>68.0</td>\n",
       "      <td>12</td>\n",
       "      <td>27.0</td>\n",
       "    </tr>\n",
       "    <tr>\n",
       "      <th>5</th>\n",
       "      <td>fit</td>\n",
       "      <td>32b</td>\n",
       "      <td>138.0</td>\n",
       "      <td>8.0</td>\n",
       "      <td>date</td>\n",
       "      <td>athletic</td>\n",
       "      <td>dress</td>\n",
       "      <td>63.0</td>\n",
       "      <td>8</td>\n",
       "      <td>45.0</td>\n",
       "    </tr>\n",
       "  </tbody>\n",
       "</table>\n",
       "</div>"
      ],
      "text/plain": [
       "   fit bust size  weight  rating     rented for          body type category  \\\n",
       "0  fit       34d   137.0    10.0       vacation          hourglass   romper   \n",
       "1  fit       34b   132.0    10.0          other  straight & narrow     gown   \n",
       "3  fit       34c   135.0     8.0  formal affair               pear    dress   \n",
       "4  fit       34b   145.0    10.0        wedding           athletic     gown   \n",
       "5  fit       32b   138.0     8.0           date           athletic    dress   \n",
       "\n",
       "   height  size   age  \n",
       "0    68.0    14  28.0  \n",
       "1    66.0    12  36.0  \n",
       "3    69.0     8  34.0  \n",
       "4    68.0    12  27.0  \n",
       "5    63.0     8  45.0  "
      ]
     },
     "execution_count": 153,
     "metadata": {},
     "output_type": "execute_result"
    }
   ],
   "source": [
    "df.head(5)"
   ]
  },
  {
   "cell_type": "code",
   "execution_count": 154,
   "id": "ae9c5aac",
   "metadata": {},
   "outputs": [
    {
     "data": {
      "image/png": "[encoded data removed]",
      "text/plain": [
       "<Figure size 720x504 with 1 Axes>"
      ]
     },
     "metadata": {
      "needs_background": "light"
     },
     "output_type": "display_data"
    }
   ],
   "source": [
    "plt.figure(figsize=(10,7))\n",
    "df[['height','weight']].boxplot()\n",
    "plt.title(\"Boxplots of Height and Weight\", fontsize=15)\n",
    "plt.show()"
   ]
  },
  {
   "cell_type": "code",
   "execution_count": 155,
   "id": "e62d0c3c",
   "metadata": {},
   "outputs": [
    {
     "data": {
      "text/plain": [
       "fit               0\n",
       "bust size     18329\n",
       "weight        29894\n",
       "rating            0\n",
       "rented for       10\n",
       "body type     14593\n",
       "category          0\n",
       "height         1413\n",
       "size              0\n",
       "age               0\n",
       "dtype: int64"
      ]
     },
     "execution_count": 155,
     "metadata": {},
     "output_type": "execute_result"
    }
   ],
   "source": [
    "# Check for missing values in each column of the dataset\n",
    "df.isnull().sum()"
   ]
  },
  {
   "cell_type": "code",
   "execution_count": 156,
   "id": "9ecb0a4d",
   "metadata": {},
   "outputs": [
    {
     "data": {
      "text/html": [
       "<div>\n",
       "<style scoped>\n",
       "    .dataframe tbody tr th:only-of-type {\n",
       "        vertical-align: middle;\n",
       "    }\n",
       "\n",
       "    .dataframe tbody tr th {\n",
       "        vertical-align: top;\n",
       "    }\n",
       "\n",
       "    .dataframe thead th {\n",
       "        text-align: right;\n",
       "    }\n",
       "</style>\n",
       "<table border=\"1\" class=\"dataframe\">\n",
       "  <thead>\n",
       "    <tr style=\"text-align: right;\">\n",
       "      <th></th>\n",
       "      <th>count</th>\n",
       "      <th>mean</th>\n",
       "      <th>std</th>\n",
       "      <th>min</th>\n",
       "      <th>25%</th>\n",
       "      <th>50%</th>\n",
       "      <th>75%</th>\n",
       "      <th>max</th>\n",
       "    </tr>\n",
       "  </thead>\n",
       "  <tbody>\n",
       "    <tr>\n",
       "      <th>height</th>\n",
       "      <td>190382.0</td>\n",
       "      <td>65.311994</td>\n",
       "      <td>2.663903</td>\n",
       "      <td>54.0</td>\n",
       "      <td>63.0</td>\n",
       "      <td>65.0</td>\n",
       "      <td>67.0</td>\n",
       "      <td>78.0</td>\n",
       "    </tr>\n",
       "    <tr>\n",
       "      <th>weight</th>\n",
       "      <td>161901.0</td>\n",
       "      <td>137.398521</td>\n",
       "      <td>21.902048</td>\n",
       "      <td>50.0</td>\n",
       "      <td>123.0</td>\n",
       "      <td>135.0</td>\n",
       "      <td>148.0</td>\n",
       "      <td>300.0</td>\n",
       "    </tr>\n",
       "    <tr>\n",
       "      <th>age</th>\n",
       "      <td>191795.0</td>\n",
       "      <td>33.750692</td>\n",
       "      <td>7.648927</td>\n",
       "      <td>17.0</td>\n",
       "      <td>29.0</td>\n",
       "      <td>32.0</td>\n",
       "      <td>37.0</td>\n",
       "      <td>64.0</td>\n",
       "    </tr>\n",
       "  </tbody>\n",
       "</table>\n",
       "</div>"
      ],
      "text/plain": [
       "           count        mean        std   min    25%    50%    75%    max\n",
       "height  190382.0   65.311994   2.663903  54.0   63.0   65.0   67.0   78.0\n",
       "weight  161901.0  137.398521  21.902048  50.0  123.0  135.0  148.0  300.0\n",
       "age     191795.0   33.750692   7.648927  17.0   29.0   32.0   37.0   64.0"
      ]
     },
     "execution_count": 156,
     "metadata": {},
     "output_type": "execute_result"
    }
   ],
   "source": [
    "df[['height','weight','age']].describe().T"
   ]
  },
  {
   "cell_type": "markdown",
   "id": "2f26d7ed",
   "metadata": {},
   "source": [
    "Observation: significant people lying in the weight range 135 to 148 (as seen in the third quartile) and in height range 65 to 67\n"
   ]
  },
  {
   "cell_type": "code",
   "execution_count": 157,
   "id": "26bd8e02",
   "metadata": {},
   "outputs": [],
   "source": [
    "# Impute the null values of weight with mean\n",
    "df['weight'].fillna(df['weight'].median(), inplace=True)"
   ]
  },
  {
   "cell_type": "code",
   "execution_count": 158,
   "id": "3005dd46",
   "metadata": {},
   "outputs": [],
   "source": [
    "# Impute the null values of weight with mean\n",
    "df['height'].fillna(df['height'].median(), inplace=True)"
   ]
  },
  {
   "cell_type": "code",
   "execution_count": 159,
   "id": "3747a23a",
   "metadata": {},
   "outputs": [
    {
     "data": {
      "text/plain": [
       "fit               0\n",
       "bust size     18329\n",
       "weight            0\n",
       "rating            0\n",
       "rented for       10\n",
       "body type     14593\n",
       "category          0\n",
       "height            0\n",
       "size              0\n",
       "age               0\n",
       "dtype: int64"
      ]
     },
     "execution_count": 159,
     "metadata": {},
     "output_type": "execute_result"
    }
   ],
   "source": [
    "# Check for missing values in each column of the dataset\n",
    "df.isnull().sum()"
   ]
  },
  {
   "cell_type": "code",
   "execution_count": 160,
   "id": "de9f93d0",
   "metadata": {},
   "outputs": [
    {
     "data": {
      "text/html": [
       "<div>\n",
       "<style scoped>\n",
       "    .dataframe tbody tr th:only-of-type {\n",
       "        vertical-align: middle;\n",
       "    }\n",
       "\n",
       "    .dataframe tbody tr th {\n",
       "        vertical-align: top;\n",
       "    }\n",
       "\n",
       "    .dataframe thead th {\n",
       "        text-align: right;\n",
       "    }\n",
       "</style>\n",
       "<table border=\"1\" class=\"dataframe\">\n",
       "  <thead>\n",
       "    <tr style=\"text-align: right;\">\n",
       "      <th></th>\n",
       "      <th>fit</th>\n",
       "      <th>bust size</th>\n",
       "      <th>weight</th>\n",
       "      <th>rating</th>\n",
       "      <th>rented for</th>\n",
       "      <th>body type</th>\n",
       "      <th>category</th>\n",
       "      <th>height</th>\n",
       "      <th>size</th>\n",
       "      <th>age</th>\n",
       "    </tr>\n",
       "  </thead>\n",
       "  <tbody>\n",
       "    <tr>\n",
       "      <th>0</th>\n",
       "      <td>fit</td>\n",
       "      <td>34d</td>\n",
       "      <td>137.0</td>\n",
       "      <td>10.0</td>\n",
       "      <td>vacation</td>\n",
       "      <td>hourglass</td>\n",
       "      <td>romper</td>\n",
       "      <td>68.0</td>\n",
       "      <td>14</td>\n",
       "      <td>28.0</td>\n",
       "    </tr>\n",
       "    <tr>\n",
       "      <th>1</th>\n",
       "      <td>fit</td>\n",
       "      <td>34b</td>\n",
       "      <td>132.0</td>\n",
       "      <td>10.0</td>\n",
       "      <td>other</td>\n",
       "      <td>straight &amp; narrow</td>\n",
       "      <td>gown</td>\n",
       "      <td>66.0</td>\n",
       "      <td>12</td>\n",
       "      <td>36.0</td>\n",
       "    </tr>\n",
       "    <tr>\n",
       "      <th>3</th>\n",
       "      <td>fit</td>\n",
       "      <td>34c</td>\n",
       "      <td>135.0</td>\n",
       "      <td>8.0</td>\n",
       "      <td>formal affair</td>\n",
       "      <td>pear</td>\n",
       "      <td>dress</td>\n",
       "      <td>69.0</td>\n",
       "      <td>8</td>\n",
       "      <td>34.0</td>\n",
       "    </tr>\n",
       "    <tr>\n",
       "      <th>4</th>\n",
       "      <td>fit</td>\n",
       "      <td>34b</td>\n",
       "      <td>145.0</td>\n",
       "      <td>10.0</td>\n",
       "      <td>wedding</td>\n",
       "      <td>athletic</td>\n",
       "      <td>gown</td>\n",
       "      <td>68.0</td>\n",
       "      <td>12</td>\n",
       "      <td>27.0</td>\n",
       "    </tr>\n",
       "    <tr>\n",
       "      <th>5</th>\n",
       "      <td>fit</td>\n",
       "      <td>32b</td>\n",
       "      <td>138.0</td>\n",
       "      <td>8.0</td>\n",
       "      <td>date</td>\n",
       "      <td>athletic</td>\n",
       "      <td>dress</td>\n",
       "      <td>63.0</td>\n",
       "      <td>8</td>\n",
       "      <td>45.0</td>\n",
       "    </tr>\n",
       "  </tbody>\n",
       "</table>\n",
       "</div>"
      ],
      "text/plain": [
       "   fit bust size  weight  rating     rented for          body type category  \\\n",
       "0  fit       34d   137.0    10.0       vacation          hourglass   romper   \n",
       "1  fit       34b   132.0    10.0          other  straight & narrow     gown   \n",
       "3  fit       34c   135.0     8.0  formal affair               pear    dress   \n",
       "4  fit       34b   145.0    10.0        wedding           athletic     gown   \n",
       "5  fit       32b   138.0     8.0           date           athletic    dress   \n",
       "\n",
       "   height  size   age  \n",
       "0    68.0    14  28.0  \n",
       "1    66.0    12  36.0  \n",
       "3    69.0     8  34.0  \n",
       "4    68.0    12  27.0  \n",
       "5    63.0     8  45.0  "
      ]
     },
     "execution_count": 160,
     "metadata": {},
     "output_type": "execute_result"
    }
   ],
   "source": [
    "df.head(5)"
   ]
  },
  {
   "cell_type": "code",
   "execution_count": 161,
   "id": "de6c311c",
   "metadata": {},
   "outputs": [
    {
     "data": {
      "text/plain": [
       "34b    27216\n",
       "34c    23080\n",
       "34d    18000\n",
       "36c    13456\n",
       "32d    11158\n",
       "       ...  \n",
       "28h        1\n",
       "46f        1\n",
       "42j        1\n",
       "28i        1\n",
       "44h        1\n",
       "Name: bust size, Length: 106, dtype: int64"
      ]
     },
     "execution_count": 161,
     "metadata": {},
     "output_type": "execute_result"
    }
   ],
   "source": [
    "# Check for types of value count in column of the 'bust size'\n",
    "df['bust size'].value_counts()"
   ]
  },
  {
   "cell_type": "code",
   "execution_count": 162,
   "id": "a0f798e9",
   "metadata": {},
   "outputs": [
    {
     "data": {
      "text/plain": [
       "hourglass            55157\n",
       "athletic             43533\n",
       "petite               22044\n",
       "pear                 22040\n",
       "full bust            14905\n",
       "straight & narrow    14677\n",
       "apple                 4846\n",
       "Name: body type, dtype: int64"
      ]
     },
     "execution_count": 162,
     "metadata": {},
     "output_type": "execute_result"
    }
   ],
   "source": [
    "# Check for types of value count in column of the 'body type'\n",
    "df['body type'].value_counts()"
   ]
  },
  {
   "cell_type": "code",
   "execution_count": 163,
   "id": "d6bb0da9",
   "metadata": {},
   "outputs": [
    {
     "data": {
      "text/plain": [
       "wedding            57603\n",
       "formal affair      40193\n",
       "party              35470\n",
       "everyday           16754\n",
       "other              15309\n",
       "work               15020\n",
       "date                7372\n",
       "vacation            4063\n",
       "party: cocktail        1\n",
       "Name: rented for, dtype: int64"
      ]
     },
     "execution_count": 163,
     "metadata": {},
     "output_type": "execute_result"
    }
   ],
   "source": [
    "# Check for types of value count in column of the 'rented for'\n",
    "df['rented for'].value_counts()"
   ]
  },
  {
   "cell_type": "code",
   "execution_count": 164,
   "id": "5dc1f668",
   "metadata": {},
   "outputs": [],
   "source": [
    "# Impute the null values of 'bust size' with all the possible customer value \"34d\"\n",
    "df['bust size'].fillna(df['bust size'].mode()[0], inplace=True)"
   ]
  },
  {
   "cell_type": "code",
   "execution_count": 165,
   "id": "bff2d6f3",
   "metadata": {},
   "outputs": [],
   "source": [
    "# Impute the null values of 'bust size' with all the possible customer value \"hourglass\"\n",
    "df['body type'].fillna(df['body type'].mode()[0], inplace=True)"
   ]
  },
  {
   "cell_type": "code",
   "execution_count": 166,
   "id": "eb0adc38",
   "metadata": {},
   "outputs": [
    {
     "data": {
      "text/html": [
       "<div>\n",
       "<style scoped>\n",
       "    .dataframe tbody tr th:only-of-type {\n",
       "        vertical-align: middle;\n",
       "    }\n",
       "\n",
       "    .dataframe tbody tr th {\n",
       "        vertical-align: top;\n",
       "    }\n",
       "\n",
       "    .dataframe thead th {\n",
       "        text-align: right;\n",
       "    }\n",
       "</style>\n",
       "<table border=\"1\" class=\"dataframe\">\n",
       "  <thead>\n",
       "    <tr style=\"text-align: right;\">\n",
       "      <th></th>\n",
       "      <th>fit</th>\n",
       "      <th>bust size</th>\n",
       "      <th>weight</th>\n",
       "      <th>rating</th>\n",
       "      <th>rented for</th>\n",
       "      <th>body type</th>\n",
       "      <th>category</th>\n",
       "      <th>height</th>\n",
       "      <th>size</th>\n",
       "      <th>age</th>\n",
       "    </tr>\n",
       "  </thead>\n",
       "  <tbody>\n",
       "    <tr>\n",
       "      <th>0</th>\n",
       "      <td>fit</td>\n",
       "      <td>34d</td>\n",
       "      <td>137.0</td>\n",
       "      <td>10.0</td>\n",
       "      <td>vacation</td>\n",
       "      <td>hourglass</td>\n",
       "      <td>romper</td>\n",
       "      <td>68.0</td>\n",
       "      <td>14</td>\n",
       "      <td>28.0</td>\n",
       "    </tr>\n",
       "    <tr>\n",
       "      <th>1</th>\n",
       "      <td>fit</td>\n",
       "      <td>34b</td>\n",
       "      <td>132.0</td>\n",
       "      <td>10.0</td>\n",
       "      <td>other</td>\n",
       "      <td>straight &amp; narrow</td>\n",
       "      <td>gown</td>\n",
       "      <td>66.0</td>\n",
       "      <td>12</td>\n",
       "      <td>36.0</td>\n",
       "    </tr>\n",
       "    <tr>\n",
       "      <th>3</th>\n",
       "      <td>fit</td>\n",
       "      <td>34c</td>\n",
       "      <td>135.0</td>\n",
       "      <td>8.0</td>\n",
       "      <td>formal affair</td>\n",
       "      <td>pear</td>\n",
       "      <td>dress</td>\n",
       "      <td>69.0</td>\n",
       "      <td>8</td>\n",
       "      <td>34.0</td>\n",
       "    </tr>\n",
       "    <tr>\n",
       "      <th>4</th>\n",
       "      <td>fit</td>\n",
       "      <td>34b</td>\n",
       "      <td>145.0</td>\n",
       "      <td>10.0</td>\n",
       "      <td>wedding</td>\n",
       "      <td>athletic</td>\n",
       "      <td>gown</td>\n",
       "      <td>68.0</td>\n",
       "      <td>12</td>\n",
       "      <td>27.0</td>\n",
       "    </tr>\n",
       "    <tr>\n",
       "      <th>5</th>\n",
       "      <td>fit</td>\n",
       "      <td>32b</td>\n",
       "      <td>138.0</td>\n",
       "      <td>8.0</td>\n",
       "      <td>date</td>\n",
       "      <td>athletic</td>\n",
       "      <td>dress</td>\n",
       "      <td>63.0</td>\n",
       "      <td>8</td>\n",
       "      <td>45.0</td>\n",
       "    </tr>\n",
       "  </tbody>\n",
       "</table>\n",
       "</div>"
      ],
      "text/plain": [
       "   fit bust size  weight  rating     rented for          body type category  \\\n",
       "0  fit       34d   137.0    10.0       vacation          hourglass   romper   \n",
       "1  fit       34b   132.0    10.0          other  straight & narrow     gown   \n",
       "3  fit       34c   135.0     8.0  formal affair               pear    dress   \n",
       "4  fit       34b   145.0    10.0        wedding           athletic     gown   \n",
       "5  fit       32b   138.0     8.0           date           athletic    dress   \n",
       "\n",
       "   height  size   age  \n",
       "0    68.0    14  28.0  \n",
       "1    66.0    12  36.0  \n",
       "3    69.0     8  34.0  \n",
       "4    68.0    12  27.0  \n",
       "5    63.0     8  45.0  "
      ]
     },
     "execution_count": 166,
     "metadata": {},
     "output_type": "execute_result"
    }
   ],
   "source": [
    "df.head(5)"
   ]
  },
  {
   "cell_type": "code",
   "execution_count": 167,
   "id": "04d55e12",
   "metadata": {},
   "outputs": [],
   "source": [
    "# Impute the null values of 'bust size' with all the possible customer value \"wedding\"\n",
    "df['rented for'].fillna(df['rented for'].mode()[0], inplace=True)"
   ]
  },
  {
   "cell_type": "code",
   "execution_count": 168,
   "id": "7d9bbcaf",
   "metadata": {},
   "outputs": [
    {
     "data": {
      "text/plain": [
       "wedding            57613\n",
       "formal affair      40193\n",
       "party              35470\n",
       "everyday           16754\n",
       "other              15309\n",
       "work               15020\n",
       "date                7372\n",
       "vacation            4063\n",
       "party: cocktail        1\n",
       "Name: rented for, dtype: int64"
      ]
     },
     "execution_count": 168,
     "metadata": {},
     "output_type": "execute_result"
    }
   ],
   "source": [
    "# Check for types of value count in column of the 'rented for'\n",
    "df['rented for'].value_counts()"
   ]
  },
  {
   "cell_type": "code",
   "execution_count": 169,
   "id": "8e3782c4",
   "metadata": {},
   "outputs": [
    {
     "data": {
      "text/plain": [
       "fit           0\n",
       "bust size     0\n",
       "weight        0\n",
       "rating        0\n",
       "rented for    0\n",
       "body type     0\n",
       "category      0\n",
       "height        0\n",
       "size          0\n",
       "age           0\n",
       "dtype: int64"
      ]
     },
     "execution_count": 169,
     "metadata": {},
     "output_type": "execute_result"
    }
   ],
   "source": [
    "# Check for missing values in each column of the dataset\n",
    "df.isnull().sum()"
   ]
  },
  {
   "cell_type": "code",
   "execution_count": 170,
   "id": "d2cddaea",
   "metadata": {},
   "outputs": [
    {
     "data": {
      "text/html": [
       "<div>\n",
       "<style scoped>\n",
       "    .dataframe tbody tr th:only-of-type {\n",
       "        vertical-align: middle;\n",
       "    }\n",
       "\n",
       "    .dataframe tbody tr th {\n",
       "        vertical-align: top;\n",
       "    }\n",
       "\n",
       "    .dataframe thead th {\n",
       "        text-align: right;\n",
       "    }\n",
       "</style>\n",
       "<table border=\"1\" class=\"dataframe\">\n",
       "  <thead>\n",
       "    <tr style=\"text-align: right;\">\n",
       "      <th></th>\n",
       "      <th>fit</th>\n",
       "      <th>bust size</th>\n",
       "      <th>weight</th>\n",
       "      <th>rating</th>\n",
       "      <th>rented for</th>\n",
       "      <th>body type</th>\n",
       "      <th>category</th>\n",
       "      <th>height</th>\n",
       "      <th>size</th>\n",
       "      <th>age</th>\n",
       "    </tr>\n",
       "  </thead>\n",
       "  <tbody>\n",
       "    <tr>\n",
       "      <th>0</th>\n",
       "      <td>fit</td>\n",
       "      <td>34d</td>\n",
       "      <td>137.0</td>\n",
       "      <td>10.0</td>\n",
       "      <td>vacation</td>\n",
       "      <td>hourglass</td>\n",
       "      <td>romper</td>\n",
       "      <td>68.0</td>\n",
       "      <td>14</td>\n",
       "      <td>28.0</td>\n",
       "    </tr>\n",
       "    <tr>\n",
       "      <th>1</th>\n",
       "      <td>fit</td>\n",
       "      <td>34b</td>\n",
       "      <td>132.0</td>\n",
       "      <td>10.0</td>\n",
       "      <td>other</td>\n",
       "      <td>straight &amp; narrow</td>\n",
       "      <td>gown</td>\n",
       "      <td>66.0</td>\n",
       "      <td>12</td>\n",
       "      <td>36.0</td>\n",
       "    </tr>\n",
       "    <tr>\n",
       "      <th>3</th>\n",
       "      <td>fit</td>\n",
       "      <td>34c</td>\n",
       "      <td>135.0</td>\n",
       "      <td>8.0</td>\n",
       "      <td>formal affair</td>\n",
       "      <td>pear</td>\n",
       "      <td>dress</td>\n",
       "      <td>69.0</td>\n",
       "      <td>8</td>\n",
       "      <td>34.0</td>\n",
       "    </tr>\n",
       "    <tr>\n",
       "      <th>4</th>\n",
       "      <td>fit</td>\n",
       "      <td>34b</td>\n",
       "      <td>145.0</td>\n",
       "      <td>10.0</td>\n",
       "      <td>wedding</td>\n",
       "      <td>athletic</td>\n",
       "      <td>gown</td>\n",
       "      <td>68.0</td>\n",
       "      <td>12</td>\n",
       "      <td>27.0</td>\n",
       "    </tr>\n",
       "    <tr>\n",
       "      <th>5</th>\n",
       "      <td>fit</td>\n",
       "      <td>32b</td>\n",
       "      <td>138.0</td>\n",
       "      <td>8.0</td>\n",
       "      <td>date</td>\n",
       "      <td>athletic</td>\n",
       "      <td>dress</td>\n",
       "      <td>63.0</td>\n",
       "      <td>8</td>\n",
       "      <td>45.0</td>\n",
       "    </tr>\n",
       "  </tbody>\n",
       "</table>\n",
       "</div>"
      ],
      "text/plain": [
       "   fit bust size  weight  rating     rented for          body type category  \\\n",
       "0  fit       34d   137.0    10.0       vacation          hourglass   romper   \n",
       "1  fit       34b   132.0    10.0          other  straight & narrow     gown   \n",
       "3  fit       34c   135.0     8.0  formal affair               pear    dress   \n",
       "4  fit       34b   145.0    10.0        wedding           athletic     gown   \n",
       "5  fit       32b   138.0     8.0           date           athletic    dress   \n",
       "\n",
       "   height  size   age  \n",
       "0    68.0    14  28.0  \n",
       "1    66.0    12  36.0  \n",
       "3    69.0     8  34.0  \n",
       "4    68.0    12  27.0  \n",
       "5    63.0     8  45.0  "
      ]
     },
     "execution_count": 170,
     "metadata": {},
     "output_type": "execute_result"
    }
   ],
   "source": [
    "df.head(5)"
   ]
  },
  {
   "cell_type": "code",
   "execution_count": 171,
   "id": "06b645c9",
   "metadata": {},
   "outputs": [
    {
     "data": {
      "image/png": "[encoded data removed]",
      "text/plain": [
       "<Figure size 1008x504 with 1 Axes>"
      ]
     },
     "metadata": {
      "needs_background": "light"
     },
     "output_type": "display_data"
    }
   ],
   "source": [
    "# Distribution of the different categories in the column of 'rented for'\n",
    "plt.figure(figsize=(14,7))\n",
    "sns.countplot(data=df,x='rented for', palette='pastel')\n",
    "plt.show()"
   ]
  },
  {
   "cell_type": "markdown",
   "id": "facfb1a9",
   "metadata": {},
   "source": [
    "# Data Preparation for model building"
   ]
  },
  {
   "cell_type": "code",
   "execution_count": 172,
   "id": "1a175094",
   "metadata": {},
   "outputs": [],
   "source": [
    "dc=df"
   ]
  },
  {
   "cell_type": "code",
   "execution_count": 173,
   "id": "4743cf46",
   "metadata": {},
   "outputs": [
    {
     "data": {
      "text/html": [
       "<div>\n",
       "<style scoped>\n",
       "    .dataframe tbody tr th:only-of-type {\n",
       "        vertical-align: middle;\n",
       "    }\n",
       "\n",
       "    .dataframe tbody tr th {\n",
       "        vertical-align: top;\n",
       "    }\n",
       "\n",
       "    .dataframe thead th {\n",
       "        text-align: right;\n",
       "    }\n",
       "</style>\n",
       "<table border=\"1\" class=\"dataframe\">\n",
       "  <thead>\n",
       "    <tr style=\"text-align: right;\">\n",
       "      <th></th>\n",
       "      <th>weight</th>\n",
       "      <th>rating</th>\n",
       "      <th>height</th>\n",
       "      <th>size</th>\n",
       "      <th>age</th>\n",
       "    </tr>\n",
       "  </thead>\n",
       "  <tbody>\n",
       "    <tr>\n",
       "      <th>weight</th>\n",
       "      <td>1.000000</td>\n",
       "      <td>-0.021058</td>\n",
       "      <td>-0.002874</td>\n",
       "      <td>0.723741</td>\n",
       "      <td>0.068379</td>\n",
       "    </tr>\n",
       "    <tr>\n",
       "      <th>rating</th>\n",
       "      <td>-0.021058</td>\n",
       "      <td>1.000000</td>\n",
       "      <td>-0.003106</td>\n",
       "      <td>-0.036913</td>\n",
       "      <td>-0.036985</td>\n",
       "    </tr>\n",
       "    <tr>\n",
       "      <th>height</th>\n",
       "      <td>-0.002874</td>\n",
       "      <td>-0.003106</td>\n",
       "      <td>1.000000</td>\n",
       "      <td>-0.001534</td>\n",
       "      <td>0.000804</td>\n",
       "    </tr>\n",
       "    <tr>\n",
       "      <th>size</th>\n",
       "      <td>0.723741</td>\n",
       "      <td>-0.036913</td>\n",
       "      <td>-0.001534</td>\n",
       "      <td>1.000000</td>\n",
       "      <td>0.157528</td>\n",
       "    </tr>\n",
       "    <tr>\n",
       "      <th>age</th>\n",
       "      <td>0.068379</td>\n",
       "      <td>-0.036985</td>\n",
       "      <td>0.000804</td>\n",
       "      <td>0.157528</td>\n",
       "      <td>1.000000</td>\n",
       "    </tr>\n",
       "  </tbody>\n",
       "</table>\n",
       "</div>"
      ],
      "text/plain": [
       "          weight    rating    height      size       age\n",
       "weight  1.000000 -0.021058 -0.002874  0.723741  0.068379\n",
       "rating -0.021058  1.000000 -0.003106 -0.036913 -0.036985\n",
       "height -0.002874 -0.003106  1.000000 -0.001534  0.000804\n",
       "size    0.723741 -0.036913 -0.001534  1.000000  0.157528\n",
       "age     0.068379 -0.036985  0.000804  0.157528  1.000000"
      ]
     },
     "execution_count": 173,
     "metadata": {},
     "output_type": "execute_result"
    }
   ],
   "source": [
    "dc.corr()"
   ]
  },
  {
   "cell_type": "code",
   "execution_count": 174,
   "id": "95e694d3",
   "metadata": {},
   "outputs": [
    {
     "data": {
      "text/html": [
       "<div>\n",
       "<style scoped>\n",
       "    .dataframe tbody tr th:only-of-type {\n",
       "        vertical-align: middle;\n",
       "    }\n",
       "\n",
       "    .dataframe tbody tr th {\n",
       "        vertical-align: top;\n",
       "    }\n",
       "\n",
       "    .dataframe thead th {\n",
       "        text-align: right;\n",
       "    }\n",
       "</style>\n",
       "<table border=\"1\" class=\"dataframe\">\n",
       "  <thead>\n",
       "    <tr style=\"text-align: right;\">\n",
       "      <th></th>\n",
       "      <th>fit</th>\n",
       "      <th>bust size</th>\n",
       "      <th>weight</th>\n",
       "      <th>rating</th>\n",
       "      <th>rented for</th>\n",
       "      <th>body type</th>\n",
       "      <th>category</th>\n",
       "      <th>height</th>\n",
       "      <th>size</th>\n",
       "      <th>age</th>\n",
       "    </tr>\n",
       "  </thead>\n",
       "  <tbody>\n",
       "    <tr>\n",
       "      <th>0</th>\n",
       "      <td>fit</td>\n",
       "      <td>34d</td>\n",
       "      <td>137.0</td>\n",
       "      <td>10.0</td>\n",
       "      <td>vacation</td>\n",
       "      <td>hourglass</td>\n",
       "      <td>romper</td>\n",
       "      <td>68.0</td>\n",
       "      <td>14</td>\n",
       "      <td>28.0</td>\n",
       "    </tr>\n",
       "    <tr>\n",
       "      <th>1</th>\n",
       "      <td>fit</td>\n",
       "      <td>34b</td>\n",
       "      <td>132.0</td>\n",
       "      <td>10.0</td>\n",
       "      <td>other</td>\n",
       "      <td>straight &amp; narrow</td>\n",
       "      <td>gown</td>\n",
       "      <td>66.0</td>\n",
       "      <td>12</td>\n",
       "      <td>36.0</td>\n",
       "    </tr>\n",
       "    <tr>\n",
       "      <th>3</th>\n",
       "      <td>fit</td>\n",
       "      <td>34c</td>\n",
       "      <td>135.0</td>\n",
       "      <td>8.0</td>\n",
       "      <td>formal affair</td>\n",
       "      <td>pear</td>\n",
       "      <td>dress</td>\n",
       "      <td>69.0</td>\n",
       "      <td>8</td>\n",
       "      <td>34.0</td>\n",
       "    </tr>\n",
       "    <tr>\n",
       "      <th>4</th>\n",
       "      <td>fit</td>\n",
       "      <td>34b</td>\n",
       "      <td>145.0</td>\n",
       "      <td>10.0</td>\n",
       "      <td>wedding</td>\n",
       "      <td>athletic</td>\n",
       "      <td>gown</td>\n",
       "      <td>68.0</td>\n",
       "      <td>12</td>\n",
       "      <td>27.0</td>\n",
       "    </tr>\n",
       "    <tr>\n",
       "      <th>5</th>\n",
       "      <td>fit</td>\n",
       "      <td>32b</td>\n",
       "      <td>138.0</td>\n",
       "      <td>8.0</td>\n",
       "      <td>date</td>\n",
       "      <td>athletic</td>\n",
       "      <td>dress</td>\n",
       "      <td>63.0</td>\n",
       "      <td>8</td>\n",
       "      <td>45.0</td>\n",
       "    </tr>\n",
       "  </tbody>\n",
       "</table>\n",
       "</div>"
      ],
      "text/plain": [
       "   fit bust size  weight  rating     rented for          body type category  \\\n",
       "0  fit       34d   137.0    10.0       vacation          hourglass   romper   \n",
       "1  fit       34b   132.0    10.0          other  straight & narrow     gown   \n",
       "3  fit       34c   135.0     8.0  formal affair               pear    dress   \n",
       "4  fit       34b   145.0    10.0        wedding           athletic     gown   \n",
       "5  fit       32b   138.0     8.0           date           athletic    dress   \n",
       "\n",
       "   height  size   age  \n",
       "0    68.0    14  28.0  \n",
       "1    66.0    12  36.0  \n",
       "3    69.0     8  34.0  \n",
       "4    68.0    12  27.0  \n",
       "5    63.0     8  45.0  "
      ]
     },
     "execution_count": 174,
     "metadata": {},
     "output_type": "execute_result"
    }
   ],
   "source": [
    "dc.head(5)"
   ]
  },
  {
   "cell_type": "code",
   "execution_count": 175,
   "id": "7a378cd3",
   "metadata": {},
   "outputs": [],
   "source": [
    "# very high correlation between weight and size, so drop the size column\n",
    "dc.drop(columns=['size'],inplace=True)"
   ]
  },
  {
   "cell_type": "code",
   "execution_count": 176,
   "id": "a51605d6",
   "metadata": {},
   "outputs": [],
   "source": [
    "# drop the redundant 'body type' column\n",
    "dc.drop(columns=['body type'],inplace=True)"
   ]
  },
  {
   "cell_type": "code",
   "execution_count": 177,
   "id": "84fd44b7",
   "metadata": {},
   "outputs": [
    {
     "data": {
      "text/html": [
       "<div>\n",
       "<style scoped>\n",
       "    .dataframe tbody tr th:only-of-type {\n",
       "        vertical-align: middle;\n",
       "    }\n",
       "\n",
       "    .dataframe tbody tr th {\n",
       "        vertical-align: top;\n",
       "    }\n",
       "\n",
       "    .dataframe thead th {\n",
       "        text-align: right;\n",
       "    }\n",
       "</style>\n",
       "<table border=\"1\" class=\"dataframe\">\n",
       "  <thead>\n",
       "    <tr style=\"text-align: right;\">\n",
       "      <th></th>\n",
       "      <th>fit</th>\n",
       "      <th>bust size</th>\n",
       "      <th>weight</th>\n",
       "      <th>rating</th>\n",
       "      <th>rented for</th>\n",
       "      <th>category</th>\n",
       "      <th>height</th>\n",
       "      <th>age</th>\n",
       "    </tr>\n",
       "  </thead>\n",
       "  <tbody>\n",
       "    <tr>\n",
       "      <th>0</th>\n",
       "      <td>fit</td>\n",
       "      <td>34d</td>\n",
       "      <td>137.0</td>\n",
       "      <td>10.0</td>\n",
       "      <td>vacation</td>\n",
       "      <td>romper</td>\n",
       "      <td>68.0</td>\n",
       "      <td>28.0</td>\n",
       "    </tr>\n",
       "    <tr>\n",
       "      <th>1</th>\n",
       "      <td>fit</td>\n",
       "      <td>34b</td>\n",
       "      <td>132.0</td>\n",
       "      <td>10.0</td>\n",
       "      <td>other</td>\n",
       "      <td>gown</td>\n",
       "      <td>66.0</td>\n",
       "      <td>36.0</td>\n",
       "    </tr>\n",
       "    <tr>\n",
       "      <th>3</th>\n",
       "      <td>fit</td>\n",
       "      <td>34c</td>\n",
       "      <td>135.0</td>\n",
       "      <td>8.0</td>\n",
       "      <td>formal affair</td>\n",
       "      <td>dress</td>\n",
       "      <td>69.0</td>\n",
       "      <td>34.0</td>\n",
       "    </tr>\n",
       "    <tr>\n",
       "      <th>4</th>\n",
       "      <td>fit</td>\n",
       "      <td>34b</td>\n",
       "      <td>145.0</td>\n",
       "      <td>10.0</td>\n",
       "      <td>wedding</td>\n",
       "      <td>gown</td>\n",
       "      <td>68.0</td>\n",
       "      <td>27.0</td>\n",
       "    </tr>\n",
       "    <tr>\n",
       "      <th>5</th>\n",
       "      <td>fit</td>\n",
       "      <td>32b</td>\n",
       "      <td>138.0</td>\n",
       "      <td>8.0</td>\n",
       "      <td>date</td>\n",
       "      <td>dress</td>\n",
       "      <td>63.0</td>\n",
       "      <td>45.0</td>\n",
       "    </tr>\n",
       "  </tbody>\n",
       "</table>\n",
       "</div>"
      ],
      "text/plain": [
       "   fit bust size  weight  rating     rented for category  height   age\n",
       "0  fit       34d   137.0    10.0       vacation   romper    68.0  28.0\n",
       "1  fit       34b   132.0    10.0          other     gown    66.0  36.0\n",
       "3  fit       34c   135.0     8.0  formal affair    dress    69.0  34.0\n",
       "4  fit       34b   145.0    10.0        wedding     gown    68.0  27.0\n",
       "5  fit       32b   138.0     8.0           date    dress    63.0  45.0"
      ]
     },
     "execution_count": 177,
     "metadata": {},
     "output_type": "execute_result"
    }
   ],
   "source": [
    "dc.head(5)"
   ]
  },
  {
   "cell_type": "code",
   "execution_count": 178,
   "id": "80afb2ab",
   "metadata": {},
   "outputs": [],
   "source": [
    "# clusteing would be a bit difficult for \"busti ize\". Split and Encode the categorical variables\n",
    "\n",
    "dc[\"band_size\"] = dc[\"bust size\"].str.extract(\"([0-9]+)\", expand=True).apply(pd.to_numeric)"
   ]
  },
  {
   "cell_type": "code",
   "execution_count": 179,
   "id": "473cc392",
   "metadata": {},
   "outputs": [],
   "source": [
    "dc[\"cup_size\"] = dc[\"bust size\"].str.extract(\"([a-z]+)\", expand=True)"
   ]
  },
  {
   "cell_type": "code",
   "execution_count": 180,
   "id": "cc6a7a4b",
   "metadata": {},
   "outputs": [],
   "source": [
    "# drop the 'bust size' column\n",
    "dc.drop(columns=['bust size'],inplace=True)"
   ]
  },
  {
   "cell_type": "code",
   "execution_count": 181,
   "id": "1d2f0146",
   "metadata": {},
   "outputs": [
    {
     "data": {
      "text/plain": [
       "count    191795.000000\n",
       "mean         34.179817\n",
       "std           1.659816\n",
       "min          28.000000\n",
       "25%          34.000000\n",
       "50%          34.000000\n",
       "75%          36.000000\n",
       "max          48.000000\n",
       "Name: band_size, dtype: float64"
      ]
     },
     "execution_count": 181,
     "metadata": {},
     "output_type": "execute_result"
    }
   ],
   "source": [
    "dc['band_size'].describe()"
   ]
  },
  {
   "cell_type": "code",
   "execution_count": 182,
   "id": "c53c5eed",
   "metadata": {},
   "outputs": [
    {
     "data": {
      "text/plain": [
       "34    100162\n",
       "32     41041\n",
       "36     39275\n",
       "38      9473\n",
       "30       831\n",
       "40       446\n",
       "28       284\n",
       "42       193\n",
       "44        77\n",
       "46         8\n",
       "48         5\n",
       "Name: band_size, dtype: int64"
      ]
     },
     "execution_count": 182,
     "metadata": {},
     "output_type": "execute_result"
    }
   ],
   "source": [
    "dc['band_size'].value_counts()"
   ]
  },
  {
   "cell_type": "code",
   "execution_count": 183,
   "id": "76fef769",
   "metadata": {},
   "outputs": [
    {
     "data": {
      "text/plain": [
       "b      67256\n",
       "c      49469\n",
       "d      48749\n",
       "a      15205\n",
       "dd      6693\n",
       "ddd     2596\n",
       "aa       705\n",
       "f        457\n",
       "g        439\n",
       "h        156\n",
       "i         40\n",
       "j         30\n",
       "Name: cup_size, dtype: int64"
      ]
     },
     "execution_count": 183,
     "metadata": {},
     "output_type": "execute_result"
    }
   ],
   "source": [
    "dc['cup_size'].value_counts()"
   ]
  },
  {
   "cell_type": "code",
   "execution_count": 184,
   "id": "86834bfc",
   "metadata": {},
   "outputs": [],
   "source": [
    "dc['cup_size'].replace({'dd':'e','ddd':'f'}, inplace=True)"
   ]
  },
  {
   "cell_type": "code",
   "execution_count": 185,
   "id": "ca64a349",
   "metadata": {},
   "outputs": [
    {
     "data": {
      "text/plain": [
       "b     67256\n",
       "c     49469\n",
       "d     48749\n",
       "a     15205\n",
       "e      6693\n",
       "f      3053\n",
       "aa      705\n",
       "g       439\n",
       "h       156\n",
       "i        40\n",
       "j        30\n",
       "Name: cup_size, dtype: int64"
      ]
     },
     "execution_count": 185,
     "metadata": {},
     "output_type": "execute_result"
    }
   ],
   "source": [
    "dc['cup_size'].value_counts()"
   ]
  },
  {
   "cell_type": "code",
   "execution_count": 186,
   "id": "50f40211",
   "metadata": {},
   "outputs": [],
   "source": [
    "# Tha LabelEncoder() encodes data on the basis of alphabetical ordering. So it will take 'a' before 'aa' by default\n",
    "# which will be out of order.So, before label encoding I will rename 'a' as 'ab', so encoding goes as expected\n",
    "\n",
    "dc['cup_size'].replace({'a':'ab'}, inplace=True)"
   ]
  },
  {
   "cell_type": "code",
   "execution_count": 187,
   "id": "2968267a",
   "metadata": {},
   "outputs": [],
   "source": [
    "from sklearn.preprocessing import StandardScaler,LabelEncoder\n",
    "from sklearn.cluster import KMeans\n",
    "from scipy.stats import zscore\n",
    "from scipy.spatial import distance\n",
    "from scipy.cluster.hierarchy import linkage, dendrogram, fcluster\n",
    "from sklearn.cluster import AgglomerativeClustering\n",
    "from sklearn.decomposition import PCA\n",
    "from sklearn.model_selection import train_test_split\n",
    "from sklearn.preprocessing import Normalizer"
   ]
  },
  {
   "cell_type": "code",
   "execution_count": 188,
   "id": "0ded07e2",
   "metadata": {},
   "outputs": [
    {
     "data": {
      "text/plain": [
       "2     67256\n",
       "3     49469\n",
       "4     48749\n",
       "1     15205\n",
       "5      6693\n",
       "6      3053\n",
       "0       705\n",
       "7       439\n",
       "8       156\n",
       "9        40\n",
       "10       30\n",
       "Name: cup_size, dtype: int64"
      ]
     },
     "execution_count": 188,
     "metadata": {},
     "output_type": "execute_result"
    }
   ],
   "source": [
    "le = LabelEncoder()\n",
    "dc['cup_size'] = le.fit_transform(dc['cup_size'])\n",
    "dc['cup_size'].value_counts()"
   ]
  },
  {
   "cell_type": "code",
   "execution_count": 189,
   "id": "c9ae36f1",
   "metadata": {},
   "outputs": [],
   "source": [
    "dc['bust_size'] = dc['band_size'] + dc['cup_size']"
   ]
  },
  {
   "cell_type": "code",
   "execution_count": 190,
   "id": "1ee49f67",
   "metadata": {},
   "outputs": [
    {
     "data": {
      "text/plain": [
       "count    191795.000000\n",
       "mean         37.046857\n",
       "std           2.125238\n",
       "min          28.000000\n",
       "25%          36.000000\n",
       "50%          37.000000\n",
       "75%          38.000000\n",
       "max          53.000000\n",
       "Name: bust_size, dtype: float64"
      ]
     },
     "execution_count": 190,
     "metadata": {},
     "output_type": "execute_result"
    }
   ],
   "source": [
    "dc['bust_size'].describe()"
   ]
  },
  {
   "cell_type": "code",
   "execution_count": 191,
   "id": "a3541eec",
   "metadata": {},
   "outputs": [],
   "source": [
    "dc.drop(columns=['cup_size'],inplace=True)"
   ]
  },
  {
   "cell_type": "code",
   "execution_count": 192,
   "id": "3527ead0",
   "metadata": {},
   "outputs": [
    {
     "data": {
      "text/plain": [
       "<AxesSubplot:xlabel='band_size', ylabel='bust_size'>"
      ]
     },
     "execution_count": 192,
     "metadata": {},
     "output_type": "execute_result"
    },
    {
     "data": {
      "image/png": "[encoded data removed]",
      "text/plain": [
       "<Figure size 432x288 with 1 Axes>"
      ]
     },
     "metadata": {
      "needs_background": "light"
     },
     "output_type": "display_data"
    }
   ],
   "source": [
    "# Analyze the relation\n",
    "sns.regplot(data=dc,x='band_size',y='bust_size')"
   ]
  },
  {
   "cell_type": "code",
   "execution_count": 193,
   "id": "79ed0c5f",
   "metadata": {},
   "outputs": [],
   "source": [
    "# To avoid with correlation\n",
    "dc['chest'] = dc['bust_size'] * dc['band_size']\n",
    "dc.drop(columns=['bust_size','band_size'],inplace=True)"
   ]
  },
  {
   "cell_type": "code",
   "execution_count": 194,
   "id": "c48fbd0d",
   "metadata": {},
   "outputs": [
    {
     "data": {
      "text/plain": [
       "count    191795.000000\n",
       "mean       1269.244433\n",
       "std         131.376951\n",
       "min         784.000000\n",
       "25%        1190.000000\n",
       "50%        1258.000000\n",
       "75%        1360.000000\n",
       "max        2544.000000\n",
       "Name: chest, dtype: float64"
      ]
     },
     "execution_count": 194,
     "metadata": {},
     "output_type": "execute_result"
    }
   ],
   "source": [
    "dc['chest'].describe()"
   ]
  },
  {
   "cell_type": "code",
   "execution_count": 195,
   "id": "020698cb",
   "metadata": {},
   "outputs": [
    {
     "data": {
      "text/html": [
       "<div>\n",
       "<style scoped>\n",
       "    .dataframe tbody tr th:only-of-type {\n",
       "        vertical-align: middle;\n",
       "    }\n",
       "\n",
       "    .dataframe tbody tr th {\n",
       "        vertical-align: top;\n",
       "    }\n",
       "\n",
       "    .dataframe thead th {\n",
       "        text-align: right;\n",
       "    }\n",
       "</style>\n",
       "<table border=\"1\" class=\"dataframe\">\n",
       "  <thead>\n",
       "    <tr style=\"text-align: right;\">\n",
       "      <th></th>\n",
       "      <th>fit</th>\n",
       "      <th>weight</th>\n",
       "      <th>rating</th>\n",
       "      <th>rented for</th>\n",
       "      <th>category</th>\n",
       "      <th>height</th>\n",
       "      <th>age</th>\n",
       "      <th>chest</th>\n",
       "    </tr>\n",
       "  </thead>\n",
       "  <tbody>\n",
       "    <tr>\n",
       "      <th>0</th>\n",
       "      <td>fit</td>\n",
       "      <td>137.0</td>\n",
       "      <td>10.0</td>\n",
       "      <td>vacation</td>\n",
       "      <td>romper</td>\n",
       "      <td>68.0</td>\n",
       "      <td>28.0</td>\n",
       "      <td>1292</td>\n",
       "    </tr>\n",
       "    <tr>\n",
       "      <th>1</th>\n",
       "      <td>fit</td>\n",
       "      <td>132.0</td>\n",
       "      <td>10.0</td>\n",
       "      <td>other</td>\n",
       "      <td>gown</td>\n",
       "      <td>66.0</td>\n",
       "      <td>36.0</td>\n",
       "      <td>1224</td>\n",
       "    </tr>\n",
       "    <tr>\n",
       "      <th>3</th>\n",
       "      <td>fit</td>\n",
       "      <td>135.0</td>\n",
       "      <td>8.0</td>\n",
       "      <td>formal affair</td>\n",
       "      <td>dress</td>\n",
       "      <td>69.0</td>\n",
       "      <td>34.0</td>\n",
       "      <td>1258</td>\n",
       "    </tr>\n",
       "    <tr>\n",
       "      <th>4</th>\n",
       "      <td>fit</td>\n",
       "      <td>145.0</td>\n",
       "      <td>10.0</td>\n",
       "      <td>wedding</td>\n",
       "      <td>gown</td>\n",
       "      <td>68.0</td>\n",
       "      <td>27.0</td>\n",
       "      <td>1224</td>\n",
       "    </tr>\n",
       "    <tr>\n",
       "      <th>5</th>\n",
       "      <td>fit</td>\n",
       "      <td>138.0</td>\n",
       "      <td>8.0</td>\n",
       "      <td>date</td>\n",
       "      <td>dress</td>\n",
       "      <td>63.0</td>\n",
       "      <td>45.0</td>\n",
       "      <td>1088</td>\n",
       "    </tr>\n",
       "  </tbody>\n",
       "</table>\n",
       "</div>"
      ],
      "text/plain": [
       "   fit  weight  rating     rented for category  height   age  chest\n",
       "0  fit   137.0    10.0       vacation   romper    68.0  28.0   1292\n",
       "1  fit   132.0    10.0          other     gown    66.0  36.0   1224\n",
       "3  fit   135.0     8.0  formal affair    dress    69.0  34.0   1258\n",
       "4  fit   145.0    10.0        wedding     gown    68.0  27.0   1224\n",
       "5  fit   138.0     8.0           date    dress    63.0  45.0   1088"
      ]
     },
     "execution_count": 195,
     "metadata": {},
     "output_type": "execute_result"
    }
   ],
   "source": [
    "dc.head(5)"
   ]
  },
  {
   "cell_type": "code",
   "execution_count": 196,
   "id": "b7a70bc0",
   "metadata": {},
   "outputs": [
    {
     "data": {
      "image/png": "[encoded data removed]",
      "text/plain": [
       "<Figure size 432x288 with 1 Axes>"
      ]
     },
     "metadata": {
      "needs_background": "light"
     },
     "output_type": "display_data"
    }
   ],
   "source": [
    "# Check relatio b/w fit and rating\n",
    "sns.countplot(data=dc,x='rating',hue='fit')\n",
    "plt.show()"
   ]
  },
  {
   "cell_type": "code",
   "execution_count": 197,
   "id": "1859ed34",
   "metadata": {},
   "outputs": [
    {
     "data": {
      "text/html": [
       "<div>\n",
       "<style scoped>\n",
       "    .dataframe tbody tr th:only-of-type {\n",
       "        vertical-align: middle;\n",
       "    }\n",
       "\n",
       "    .dataframe tbody tr th {\n",
       "        vertical-align: top;\n",
       "    }\n",
       "\n",
       "    .dataframe thead th {\n",
       "        text-align: right;\n",
       "    }\n",
       "</style>\n",
       "<table border=\"1\" class=\"dataframe\">\n",
       "  <thead>\n",
       "    <tr style=\"text-align: right;\">\n",
       "      <th></th>\n",
       "      <th></th>\n",
       "      <th>rating</th>\n",
       "    </tr>\n",
       "    <tr>\n",
       "      <th>fit</th>\n",
       "      <th>rating</th>\n",
       "      <th></th>\n",
       "    </tr>\n",
       "  </thead>\n",
       "  <tbody>\n",
       "    <tr>\n",
       "      <th rowspan=\"5\" valign=\"top\">fit</th>\n",
       "      <th>10.0</th>\n",
       "      <td>100395</td>\n",
       "    </tr>\n",
       "    <tr>\n",
       "      <th>8.0</th>\n",
       "      <td>34850</td>\n",
       "    </tr>\n",
       "    <tr>\n",
       "      <th>6.0</th>\n",
       "      <td>4970</td>\n",
       "    </tr>\n",
       "    <tr>\n",
       "      <th>4.0</th>\n",
       "      <td>995</td>\n",
       "    </tr>\n",
       "    <tr>\n",
       "      <th>2.0</th>\n",
       "      <td>289</td>\n",
       "    </tr>\n",
       "    <tr>\n",
       "      <th rowspan=\"5\" valign=\"top\">large</th>\n",
       "      <th>10.0</th>\n",
       "      <td>12048</td>\n",
       "    </tr>\n",
       "    <tr>\n",
       "      <th>8.0</th>\n",
       "      <td>8771</td>\n",
       "    </tr>\n",
       "    <tr>\n",
       "      <th>6.0</th>\n",
       "      <td>2703</td>\n",
       "    </tr>\n",
       "    <tr>\n",
       "      <th>4.0</th>\n",
       "      <td>798</td>\n",
       "    </tr>\n",
       "    <tr>\n",
       "      <th>2.0</th>\n",
       "      <td>313</td>\n",
       "    </tr>\n",
       "    <tr>\n",
       "      <th rowspan=\"5\" valign=\"top\">small</th>\n",
       "      <th>10.0</th>\n",
       "      <td>11658</td>\n",
       "    </tr>\n",
       "    <tr>\n",
       "      <th>8.0</th>\n",
       "      <td>9593</td>\n",
       "    </tr>\n",
       "    <tr>\n",
       "      <th>6.0</th>\n",
       "      <td>2985</td>\n",
       "    </tr>\n",
       "    <tr>\n",
       "      <th>4.0</th>\n",
       "      <td>989</td>\n",
       "    </tr>\n",
       "    <tr>\n",
       "      <th>2.0</th>\n",
       "      <td>438</td>\n",
       "    </tr>\n",
       "  </tbody>\n",
       "</table>\n",
       "</div>"
      ],
      "text/plain": [
       "              rating\n",
       "fit   rating        \n",
       "fit   10.0    100395\n",
       "      8.0      34850\n",
       "      6.0       4970\n",
       "      4.0        995\n",
       "      2.0        289\n",
       "large 10.0     12048\n",
       "      8.0       8771\n",
       "      6.0       2703\n",
       "      4.0        798\n",
       "      2.0        313\n",
       "small 10.0     11658\n",
       "      8.0       9593\n",
       "      6.0       2985\n",
       "      4.0        989\n",
       "      2.0        438"
      ]
     },
     "execution_count": 197,
     "metadata": {},
     "output_type": "execute_result"
    }
   ],
   "source": [
    "pd.DataFrame(dc.groupby(\"fit\")[\"rating\"].value_counts())"
   ]
  },
  {
   "cell_type": "code",
   "execution_count": 198,
   "id": "a122665e",
   "metadata": {},
   "outputs": [],
   "source": [
    "# converting the feature fit into a binary one\n",
    "dc[\"fit\"] = np.where((dc[\"fit\"] == 'fit'), 1, 0)"
   ]
  },
  {
   "cell_type": "code",
   "execution_count": 199,
   "id": "6c8afed1",
   "metadata": {},
   "outputs": [
    {
     "data": {
      "image/png": "[encoded data removed]",
      "text/plain": [
       "<Figure size 432x288 with 1 Axes>"
      ]
     },
     "metadata": {
      "needs_background": "light"
     },
     "output_type": "display_data"
    }
   ],
   "source": [
    "sns.countplot(data=dc,x='rating',hue='fit')\n",
    "plt.show()"
   ]
  },
  {
   "cell_type": "code",
   "execution_count": 200,
   "id": "42fc5803",
   "metadata": {},
   "outputs": [
    {
     "data": {
      "text/html": [
       "<div>\n",
       "<style scoped>\n",
       "    .dataframe tbody tr th:only-of-type {\n",
       "        vertical-align: middle;\n",
       "    }\n",
       "\n",
       "    .dataframe tbody tr th {\n",
       "        vertical-align: top;\n",
       "    }\n",
       "\n",
       "    .dataframe thead th {\n",
       "        text-align: right;\n",
       "    }\n",
       "</style>\n",
       "<table border=\"1\" class=\"dataframe\">\n",
       "  <thead>\n",
       "    <tr style=\"text-align: right;\">\n",
       "      <th></th>\n",
       "      <th></th>\n",
       "      <th>fit</th>\n",
       "    </tr>\n",
       "    <tr>\n",
       "      <th>rating</th>\n",
       "      <th>fit</th>\n",
       "      <th></th>\n",
       "    </tr>\n",
       "  </thead>\n",
       "  <tbody>\n",
       "    <tr>\n",
       "      <th rowspan=\"2\" valign=\"top\">2.0</th>\n",
       "      <th>0</th>\n",
       "      <td>751</td>\n",
       "    </tr>\n",
       "    <tr>\n",
       "      <th>1</th>\n",
       "      <td>289</td>\n",
       "    </tr>\n",
       "    <tr>\n",
       "      <th rowspan=\"2\" valign=\"top\">4.0</th>\n",
       "      <th>0</th>\n",
       "      <td>1787</td>\n",
       "    </tr>\n",
       "    <tr>\n",
       "      <th>1</th>\n",
       "      <td>995</td>\n",
       "    </tr>\n",
       "    <tr>\n",
       "      <th rowspan=\"2\" valign=\"top\">6.0</th>\n",
       "      <th>0</th>\n",
       "      <td>5688</td>\n",
       "    </tr>\n",
       "    <tr>\n",
       "      <th>1</th>\n",
       "      <td>4970</td>\n",
       "    </tr>\n",
       "    <tr>\n",
       "      <th rowspan=\"2\" valign=\"top\">8.0</th>\n",
       "      <th>1</th>\n",
       "      <td>34850</td>\n",
       "    </tr>\n",
       "    <tr>\n",
       "      <th>0</th>\n",
       "      <td>18364</td>\n",
       "    </tr>\n",
       "    <tr>\n",
       "      <th rowspan=\"2\" valign=\"top\">10.0</th>\n",
       "      <th>1</th>\n",
       "      <td>100395</td>\n",
       "    </tr>\n",
       "    <tr>\n",
       "      <th>0</th>\n",
       "      <td>23706</td>\n",
       "    </tr>\n",
       "  </tbody>\n",
       "</table>\n",
       "</div>"
      ],
      "text/plain": [
       "               fit\n",
       "rating fit        \n",
       "2.0    0       751\n",
       "       1       289\n",
       "4.0    0      1787\n",
       "       1       995\n",
       "6.0    0      5688\n",
       "       1      4970\n",
       "8.0    1     34850\n",
       "       0     18364\n",
       "10.0   1    100395\n",
       "       0     23706"
      ]
     },
     "execution_count": 200,
     "metadata": {},
     "output_type": "execute_result"
    }
   ],
   "source": [
    "pd.DataFrame(dc.groupby(\"rating\")[\"fit\"].value_counts())"
   ]
  },
  {
   "cell_type": "code",
   "execution_count": 201,
   "id": "06f2e5fb",
   "metadata": {},
   "outputs": [],
   "source": [
    "dc['response'] = dc['rating'] * (dc['fit']+1)"
   ]
  },
  {
   "cell_type": "code",
   "execution_count": 202,
   "id": "fbde65bd",
   "metadata": {},
   "outputs": [],
   "source": [
    "dc.drop(columns=['rating','fit'],inplace=True)"
   ]
  },
  {
   "cell_type": "code",
   "execution_count": 203,
   "id": "341b2a76",
   "metadata": {},
   "outputs": [
    {
     "data": {
      "text/html": [
       "<div>\n",
       "<style scoped>\n",
       "    .dataframe tbody tr th:only-of-type {\n",
       "        vertical-align: middle;\n",
       "    }\n",
       "\n",
       "    .dataframe tbody tr th {\n",
       "        vertical-align: top;\n",
       "    }\n",
       "\n",
       "    .dataframe thead th {\n",
       "        text-align: right;\n",
       "    }\n",
       "</style>\n",
       "<table border=\"1\" class=\"dataframe\">\n",
       "  <thead>\n",
       "    <tr style=\"text-align: right;\">\n",
       "      <th></th>\n",
       "      <th>weight</th>\n",
       "      <th>rented for</th>\n",
       "      <th>category</th>\n",
       "      <th>height</th>\n",
       "      <th>age</th>\n",
       "      <th>chest</th>\n",
       "      <th>response</th>\n",
       "    </tr>\n",
       "  </thead>\n",
       "  <tbody>\n",
       "    <tr>\n",
       "      <th>0</th>\n",
       "      <td>137.0</td>\n",
       "      <td>vacation</td>\n",
       "      <td>romper</td>\n",
       "      <td>68.0</td>\n",
       "      <td>28.0</td>\n",
       "      <td>1292</td>\n",
       "      <td>20.0</td>\n",
       "    </tr>\n",
       "    <tr>\n",
       "      <th>1</th>\n",
       "      <td>132.0</td>\n",
       "      <td>other</td>\n",
       "      <td>gown</td>\n",
       "      <td>66.0</td>\n",
       "      <td>36.0</td>\n",
       "      <td>1224</td>\n",
       "      <td>20.0</td>\n",
       "    </tr>\n",
       "    <tr>\n",
       "      <th>3</th>\n",
       "      <td>135.0</td>\n",
       "      <td>formal affair</td>\n",
       "      <td>dress</td>\n",
       "      <td>69.0</td>\n",
       "      <td>34.0</td>\n",
       "      <td>1258</td>\n",
       "      <td>16.0</td>\n",
       "    </tr>\n",
       "    <tr>\n",
       "      <th>4</th>\n",
       "      <td>145.0</td>\n",
       "      <td>wedding</td>\n",
       "      <td>gown</td>\n",
       "      <td>68.0</td>\n",
       "      <td>27.0</td>\n",
       "      <td>1224</td>\n",
       "      <td>20.0</td>\n",
       "    </tr>\n",
       "    <tr>\n",
       "      <th>5</th>\n",
       "      <td>138.0</td>\n",
       "      <td>date</td>\n",
       "      <td>dress</td>\n",
       "      <td>63.0</td>\n",
       "      <td>45.0</td>\n",
       "      <td>1088</td>\n",
       "      <td>16.0</td>\n",
       "    </tr>\n",
       "  </tbody>\n",
       "</table>\n",
       "</div>"
      ],
      "text/plain": [
       "   weight     rented for category  height   age  chest  response\n",
       "0   137.0       vacation   romper    68.0  28.0   1292      20.0\n",
       "1   132.0          other     gown    66.0  36.0   1224      20.0\n",
       "3   135.0  formal affair    dress    69.0  34.0   1258      16.0\n",
       "4   145.0        wedding     gown    68.0  27.0   1224      20.0\n",
       "5   138.0           date    dress    63.0  45.0   1088      16.0"
      ]
     },
     "execution_count": 203,
     "metadata": {},
     "output_type": "execute_result"
    }
   ],
   "source": [
    "dc.head(5)"
   ]
  },
  {
   "cell_type": "code",
   "execution_count": 204,
   "id": "14855ad2",
   "metadata": {},
   "outputs": [
    {
     "data": {
      "text/plain": [
       "wedding            57613\n",
       "formal affair      40193\n",
       "party              35470\n",
       "everyday           16754\n",
       "other              15309\n",
       "work               15020\n",
       "date                7372\n",
       "vacation            4063\n",
       "party: cocktail        1\n",
       "Name: rented for, dtype: int64"
      ]
     },
     "execution_count": 204,
     "metadata": {},
     "output_type": "execute_result"
    }
   ],
   "source": [
    "# Analyze the 'rented for' data\n",
    "dc['rented for'].value_counts()"
   ]
  },
  {
   "cell_type": "code",
   "execution_count": 205,
   "id": "90397358",
   "metadata": {},
   "outputs": [],
   "source": [
    "df.rename(columns={'rented for':'rented_for'}, inplace=True)"
   ]
  },
  {
   "cell_type": "code",
   "execution_count": 206,
   "id": "03266d1d",
   "metadata": {},
   "outputs": [],
   "source": [
    "dc.loc[dc.rented_for=='party: cocktail','rented_for'] = 'party'"
   ]
  },
  {
   "cell_type": "code",
   "execution_count": 207,
   "id": "05d78605",
   "metadata": {},
   "outputs": [],
   "source": [
    "dc.loc[dc.rented_for=='date','rented_for'] = 'party'"
   ]
  },
  {
   "cell_type": "code",
   "execution_count": 208,
   "id": "49d12090",
   "metadata": {},
   "outputs": [],
   "source": [
    "# Renamig 'formal affair' to 'formal'\n",
    "dc['rented_for'].replace({'formal affair':'formal'},inplace=True)"
   ]
  },
  {
   "cell_type": "code",
   "execution_count": 209,
   "id": "6e97d6b1",
   "metadata": {},
   "outputs": [],
   "source": [
    "dc.loc[dc.rented_for=='work','rented_for'] = 'formal'"
   ]
  },
  {
   "cell_type": "code",
   "execution_count": 210,
   "id": "5eea35bc",
   "metadata": {},
   "outputs": [
    {
     "data": {
      "text/plain": [
       "wedding     57613\n",
       "formal      55213\n",
       "party       42843\n",
       "everyday    16754\n",
       "other       15309\n",
       "vacation     4063\n",
       "Name: rented_for, dtype: int64"
      ]
     },
     "execution_count": 210,
     "metadata": {},
     "output_type": "execute_result"
    }
   ],
   "source": [
    "dc['rented_for'].value_counts()"
   ]
  },
  {
   "cell_type": "code",
   "execution_count": 211,
   "id": "8e98dcd5",
   "metadata": {},
   "outputs": [],
   "source": [
    "dc.loc[dc.rented_for=='vacation','rented_for'] = 'everyday'\n",
    "dc.loc[dc.rented_for=='other','rented_for'] = 'everyday'"
   ]
  },
  {
   "cell_type": "code",
   "execution_count": 212,
   "id": "d9b7c455",
   "metadata": {},
   "outputs": [
    {
     "data": {
      "text/plain": [
       "wedding     57613\n",
       "formal      55213\n",
       "party       42843\n",
       "everyday    36126\n",
       "Name: rented_for, dtype: int64"
      ]
     },
     "execution_count": 212,
     "metadata": {},
     "output_type": "execute_result"
    }
   ],
   "source": [
    "dc['rented_for'].value_counts()"
   ]
  },
  {
   "cell_type": "code",
   "execution_count": 213,
   "id": "5e8d75da",
   "metadata": {},
   "outputs": [
    {
     "data": {
      "text/html": [
       "<div>\n",
       "<style scoped>\n",
       "    .dataframe tbody tr th:only-of-type {\n",
       "        vertical-align: middle;\n",
       "    }\n",
       "\n",
       "    .dataframe tbody tr th {\n",
       "        vertical-align: top;\n",
       "    }\n",
       "\n",
       "    .dataframe thead th {\n",
       "        text-align: right;\n",
       "    }\n",
       "</style>\n",
       "<table border=\"1\" class=\"dataframe\">\n",
       "  <thead>\n",
       "    <tr style=\"text-align: right;\">\n",
       "      <th></th>\n",
       "      <th>weight</th>\n",
       "      <th>rented_for</th>\n",
       "      <th>category</th>\n",
       "      <th>height</th>\n",
       "      <th>age</th>\n",
       "      <th>chest</th>\n",
       "      <th>response</th>\n",
       "    </tr>\n",
       "  </thead>\n",
       "  <tbody>\n",
       "    <tr>\n",
       "      <th>0</th>\n",
       "      <td>137.0</td>\n",
       "      <td>everyday</td>\n",
       "      <td>romper</td>\n",
       "      <td>68.0</td>\n",
       "      <td>28.0</td>\n",
       "      <td>1292</td>\n",
       "      <td>20.0</td>\n",
       "    </tr>\n",
       "    <tr>\n",
       "      <th>1</th>\n",
       "      <td>132.0</td>\n",
       "      <td>everyday</td>\n",
       "      <td>gown</td>\n",
       "      <td>66.0</td>\n",
       "      <td>36.0</td>\n",
       "      <td>1224</td>\n",
       "      <td>20.0</td>\n",
       "    </tr>\n",
       "    <tr>\n",
       "      <th>3</th>\n",
       "      <td>135.0</td>\n",
       "      <td>formal</td>\n",
       "      <td>dress</td>\n",
       "      <td>69.0</td>\n",
       "      <td>34.0</td>\n",
       "      <td>1258</td>\n",
       "      <td>16.0</td>\n",
       "    </tr>\n",
       "    <tr>\n",
       "      <th>4</th>\n",
       "      <td>145.0</td>\n",
       "      <td>wedding</td>\n",
       "      <td>gown</td>\n",
       "      <td>68.0</td>\n",
       "      <td>27.0</td>\n",
       "      <td>1224</td>\n",
       "      <td>20.0</td>\n",
       "    </tr>\n",
       "    <tr>\n",
       "      <th>5</th>\n",
       "      <td>138.0</td>\n",
       "      <td>party</td>\n",
       "      <td>dress</td>\n",
       "      <td>63.0</td>\n",
       "      <td>45.0</td>\n",
       "      <td>1088</td>\n",
       "      <td>16.0</td>\n",
       "    </tr>\n",
       "  </tbody>\n",
       "</table>\n",
       "</div>"
      ],
      "text/plain": [
       "   weight rented_for category  height   age  chest  response\n",
       "0   137.0   everyday   romper    68.0  28.0   1292      20.0\n",
       "1   132.0   everyday     gown    66.0  36.0   1224      20.0\n",
       "3   135.0     formal    dress    69.0  34.0   1258      16.0\n",
       "4   145.0    wedding     gown    68.0  27.0   1224      20.0\n",
       "5   138.0      party    dress    63.0  45.0   1088      16.0"
      ]
     },
     "execution_count": 213,
     "metadata": {},
     "output_type": "execute_result"
    }
   ],
   "source": [
    "dc.head(5)"
   ]
  },
  {
   "cell_type": "code",
   "execution_count": 214,
   "id": "ecced3da",
   "metadata": {},
   "outputs": [
    {
     "data": {
      "text/plain": [
       "dress         92560\n",
       "gown          44160\n",
       "sheath        19227\n",
       "shift          5349\n",
       "jumpsuit       5168\n",
       "              ...  \n",
       "caftan            4\n",
       "overcoat          2\n",
       "sweatpants        2\n",
       "crewneck          1\n",
       "buttondown        1\n",
       "Name: category, Length: 68, dtype: int64"
      ]
     },
     "execution_count": 214,
     "metadata": {},
     "output_type": "execute_result"
    }
   ],
   "source": [
    "# Analyze the 'category' data\n",
    "dc['category'].value_counts()"
   ]
  },
  {
   "cell_type": "code",
   "execution_count": 215,
   "id": "ee49b8d5",
   "metadata": {},
   "outputs": [],
   "source": [
    "# clusteing would be a bit difficult with 68 class category. Keep 'dress', 'gown', 'sheath' category\n",
    "# Club remaining categories to 'others'\n",
    "\n",
    "dc['category'] = [x if x in {'dress','gown','sheath'} else 'others' for x in dc['category']]"
   ]
  },
  {
   "cell_type": "code",
   "execution_count": 216,
   "id": "5d9f172f",
   "metadata": {},
   "outputs": [
    {
     "data": {
      "text/plain": [
       "dress     92560\n",
       "gown      44160\n",
       "others    35848\n",
       "sheath    19227\n",
       "Name: category, dtype: int64"
      ]
     },
     "execution_count": 216,
     "metadata": {},
     "output_type": "execute_result"
    }
   ],
   "source": [
    "dc['category'].value_counts()"
   ]
  },
  {
   "cell_type": "code",
   "execution_count": 217,
   "id": "c30a1cae",
   "metadata": {},
   "outputs": [],
   "source": [
    "dp = dc"
   ]
  },
  {
   "cell_type": "code",
   "execution_count": 218,
   "id": "2b85e615",
   "metadata": {},
   "outputs": [
    {
     "data": {
      "text/html": [
       "<div>\n",
       "<style scoped>\n",
       "    .dataframe tbody tr th:only-of-type {\n",
       "        vertical-align: middle;\n",
       "    }\n",
       "\n",
       "    .dataframe tbody tr th {\n",
       "        vertical-align: top;\n",
       "    }\n",
       "\n",
       "    .dataframe thead th {\n",
       "        text-align: right;\n",
       "    }\n",
       "</style>\n",
       "<table border=\"1\" class=\"dataframe\">\n",
       "  <thead>\n",
       "    <tr style=\"text-align: right;\">\n",
       "      <th></th>\n",
       "      <th>weight</th>\n",
       "      <th>rented_for</th>\n",
       "      <th>category</th>\n",
       "      <th>height</th>\n",
       "      <th>age</th>\n",
       "      <th>chest</th>\n",
       "      <th>response</th>\n",
       "    </tr>\n",
       "  </thead>\n",
       "  <tbody>\n",
       "    <tr>\n",
       "      <th>0</th>\n",
       "      <td>137.0</td>\n",
       "      <td>everyday</td>\n",
       "      <td>others</td>\n",
       "      <td>68.0</td>\n",
       "      <td>28.0</td>\n",
       "      <td>1292</td>\n",
       "      <td>20.0</td>\n",
       "    </tr>\n",
       "    <tr>\n",
       "      <th>1</th>\n",
       "      <td>132.0</td>\n",
       "      <td>everyday</td>\n",
       "      <td>gown</td>\n",
       "      <td>66.0</td>\n",
       "      <td>36.0</td>\n",
       "      <td>1224</td>\n",
       "      <td>20.0</td>\n",
       "    </tr>\n",
       "    <tr>\n",
       "      <th>3</th>\n",
       "      <td>135.0</td>\n",
       "      <td>formal</td>\n",
       "      <td>dress</td>\n",
       "      <td>69.0</td>\n",
       "      <td>34.0</td>\n",
       "      <td>1258</td>\n",
       "      <td>16.0</td>\n",
       "    </tr>\n",
       "    <tr>\n",
       "      <th>4</th>\n",
       "      <td>145.0</td>\n",
       "      <td>wedding</td>\n",
       "      <td>gown</td>\n",
       "      <td>68.0</td>\n",
       "      <td>27.0</td>\n",
       "      <td>1224</td>\n",
       "      <td>20.0</td>\n",
       "    </tr>\n",
       "    <tr>\n",
       "      <th>5</th>\n",
       "      <td>138.0</td>\n",
       "      <td>party</td>\n",
       "      <td>dress</td>\n",
       "      <td>63.0</td>\n",
       "      <td>45.0</td>\n",
       "      <td>1088</td>\n",
       "      <td>16.0</td>\n",
       "    </tr>\n",
       "  </tbody>\n",
       "</table>\n",
       "</div>"
      ],
      "text/plain": [
       "   weight rented_for category  height   age  chest  response\n",
       "0   137.0   everyday   others    68.0  28.0   1292      20.0\n",
       "1   132.0   everyday     gown    66.0  36.0   1224      20.0\n",
       "3   135.0     formal    dress    69.0  34.0   1258      16.0\n",
       "4   145.0    wedding     gown    68.0  27.0   1224      20.0\n",
       "5   138.0      party    dress    63.0  45.0   1088      16.0"
      ]
     },
     "execution_count": 218,
     "metadata": {},
     "output_type": "execute_result"
    }
   ],
   "source": [
    "dc.head()"
   ]
  },
  {
   "cell_type": "code",
   "execution_count": 219,
   "id": "6381267e",
   "metadata": {},
   "outputs": [],
   "source": [
    "le = LabelEncoder()"
   ]
  },
  {
   "cell_type": "code",
   "execution_count": 220,
   "id": "8a3883cd",
   "metadata": {},
   "outputs": [],
   "source": [
    "to_be_encoded = dp.select_dtypes(include='object').columns"
   ]
  },
  {
   "cell_type": "code",
   "execution_count": 221,
   "id": "6b4d01de",
   "metadata": {},
   "outputs": [],
   "source": [
    "for feature in to_be_encoded:\n",
    "  dp[feature] = le.fit_transform(dp[feature])"
   ]
  },
  {
   "cell_type": "code",
   "execution_count": 222,
   "id": "c75837a0",
   "metadata": {},
   "outputs": [
    {
     "name": "stdout",
     "output_type": "stream",
     "text": [
      "<class 'pandas.core.frame.DataFrame'>\n",
      "Int64Index: 191795 entries, 0 to 192543\n",
      "Data columns (total 7 columns):\n",
      " #   Column      Non-Null Count   Dtype  \n",
      "---  ------      --------------   -----  \n",
      " 0   weight      191795 non-null  float64\n",
      " 1   rented_for  191795 non-null  int32  \n",
      " 2   category    191795 non-null  int32  \n",
      " 3   height      191795 non-null  float64\n",
      " 4   age         191795 non-null  float64\n",
      " 5   chest       191795 non-null  int64  \n",
      " 6   response    191795 non-null  float64\n",
      "dtypes: float64(4), int32(2), int64(1)\n",
      "memory usage: 10.2 MB\n"
     ]
    }
   ],
   "source": [
    "dp.info()"
   ]
  },
  {
   "cell_type": "code",
   "execution_count": 223,
   "id": "cf0e70df",
   "metadata": {},
   "outputs": [
    {
     "data": {
      "text/html": [
       "<div>\n",
       "<style scoped>\n",
       "    .dataframe tbody tr th:only-of-type {\n",
       "        vertical-align: middle;\n",
       "    }\n",
       "\n",
       "    .dataframe tbody tr th {\n",
       "        vertical-align: top;\n",
       "    }\n",
       "\n",
       "    .dataframe thead th {\n",
       "        text-align: right;\n",
       "    }\n",
       "</style>\n",
       "<table border=\"1\" class=\"dataframe\">\n",
       "  <thead>\n",
       "    <tr style=\"text-align: right;\">\n",
       "      <th></th>\n",
       "      <th>weight</th>\n",
       "      <th>rented_for</th>\n",
       "      <th>category</th>\n",
       "      <th>height</th>\n",
       "      <th>age</th>\n",
       "      <th>chest</th>\n",
       "      <th>response</th>\n",
       "    </tr>\n",
       "  </thead>\n",
       "  <tbody>\n",
       "    <tr>\n",
       "      <th>0</th>\n",
       "      <td>137.0</td>\n",
       "      <td>0</td>\n",
       "      <td>2</td>\n",
       "      <td>68.0</td>\n",
       "      <td>28.0</td>\n",
       "      <td>1292</td>\n",
       "      <td>20.0</td>\n",
       "    </tr>\n",
       "    <tr>\n",
       "      <th>1</th>\n",
       "      <td>132.0</td>\n",
       "      <td>0</td>\n",
       "      <td>1</td>\n",
       "      <td>66.0</td>\n",
       "      <td>36.0</td>\n",
       "      <td>1224</td>\n",
       "      <td>20.0</td>\n",
       "    </tr>\n",
       "    <tr>\n",
       "      <th>3</th>\n",
       "      <td>135.0</td>\n",
       "      <td>1</td>\n",
       "      <td>0</td>\n",
       "      <td>69.0</td>\n",
       "      <td>34.0</td>\n",
       "      <td>1258</td>\n",
       "      <td>16.0</td>\n",
       "    </tr>\n",
       "    <tr>\n",
       "      <th>4</th>\n",
       "      <td>145.0</td>\n",
       "      <td>3</td>\n",
       "      <td>1</td>\n",
       "      <td>68.0</td>\n",
       "      <td>27.0</td>\n",
       "      <td>1224</td>\n",
       "      <td>20.0</td>\n",
       "    </tr>\n",
       "    <tr>\n",
       "      <th>5</th>\n",
       "      <td>138.0</td>\n",
       "      <td>2</td>\n",
       "      <td>0</td>\n",
       "      <td>63.0</td>\n",
       "      <td>45.0</td>\n",
       "      <td>1088</td>\n",
       "      <td>16.0</td>\n",
       "    </tr>\n",
       "  </tbody>\n",
       "</table>\n",
       "</div>"
      ],
      "text/plain": [
       "   weight  rented_for  category  height   age  chest  response\n",
       "0   137.0           0         2    68.0  28.0   1292      20.0\n",
       "1   132.0           0         1    66.0  36.0   1224      20.0\n",
       "3   135.0           1         0    69.0  34.0   1258      16.0\n",
       "4   145.0           3         1    68.0  27.0   1224      20.0\n",
       "5   138.0           2         0    63.0  45.0   1088      16.0"
      ]
     },
     "execution_count": 223,
     "metadata": {},
     "output_type": "execute_result"
    }
   ],
   "source": [
    "dp.head()"
   ]
  },
  {
   "cell_type": "code",
   "execution_count": 224,
   "id": "34fa5d9e",
   "metadata": {},
   "outputs": [],
   "source": [
    "## Standardization\n",
    "scaled_features = StandardScaler().fit_transform(dp.values)\n",
    "dp = pd.DataFrame(scaled_features, index=dp.index, columns=dp.columns)"
   ]
  },
  {
   "cell_type": "code",
   "execution_count": 230,
   "id": "56edd25a",
   "metadata": {},
   "outputs": [
    {
     "data": {
      "text/html": [
       "<div>\n",
       "<style scoped>\n",
       "    .dataframe tbody tr th:only-of-type {\n",
       "        vertical-align: middle;\n",
       "    }\n",
       "\n",
       "    .dataframe tbody tr th {\n",
       "        vertical-align: top;\n",
       "    }\n",
       "\n",
       "    .dataframe thead th {\n",
       "        text-align: right;\n",
       "    }\n",
       "</style>\n",
       "<table border=\"1\" class=\"dataframe\">\n",
       "  <thead>\n",
       "    <tr style=\"text-align: right;\">\n",
       "      <th></th>\n",
       "      <th>weight</th>\n",
       "      <th>rented_for</th>\n",
       "      <th>category</th>\n",
       "      <th>height</th>\n",
       "      <th>age</th>\n",
       "      <th>chest</th>\n",
       "      <th>response</th>\n",
       "    </tr>\n",
       "  </thead>\n",
       "  <tbody>\n",
       "    <tr>\n",
       "      <th>0</th>\n",
       "      <td>-0.001225</td>\n",
       "      <td>-1.487674</td>\n",
       "      <td>1.063029</td>\n",
       "      <td>1.013603</td>\n",
       "      <td>-0.751832</td>\n",
       "      <td>0.173209</td>\n",
       "      <td>0.808214</td>\n",
       "    </tr>\n",
       "    <tr>\n",
       "      <th>1</th>\n",
       "      <td>-0.249467</td>\n",
       "      <td>-1.487674</td>\n",
       "      <td>0.092399</td>\n",
       "      <td>0.260080</td>\n",
       "      <td>0.294069</td>\n",
       "      <td>-0.344387</td>\n",
       "      <td>0.808214</td>\n",
       "    </tr>\n",
       "    <tr>\n",
       "      <th>3</th>\n",
       "      <td>-0.100522</td>\n",
       "      <td>-0.578226</td>\n",
       "      <td>-0.878230</td>\n",
       "      <td>1.390364</td>\n",
       "      <td>0.032594</td>\n",
       "      <td>-0.085589</td>\n",
       "      <td>0.008046</td>\n",
       "    </tr>\n",
       "    <tr>\n",
       "      <th>4</th>\n",
       "      <td>0.395962</td>\n",
       "      <td>1.240670</td>\n",
       "      <td>0.092399</td>\n",
       "      <td>1.013603</td>\n",
       "      <td>-0.882569</td>\n",
       "      <td>-0.344387</td>\n",
       "      <td>0.808214</td>\n",
       "    </tr>\n",
       "    <tr>\n",
       "      <th>5</th>\n",
       "      <td>0.048423</td>\n",
       "      <td>0.331222</td>\n",
       "      <td>-0.878230</td>\n",
       "      <td>-0.870204</td>\n",
       "      <td>1.470708</td>\n",
       "      <td>-1.379579</td>\n",
       "      <td>0.008046</td>\n",
       "    </tr>\n",
       "  </tbody>\n",
       "</table>\n",
       "</div>"
      ],
      "text/plain": [
       "     weight  rented_for  category    height       age     chest  response\n",
       "0 -0.001225   -1.487674  1.063029  1.013603 -0.751832  0.173209  0.808214\n",
       "1 -0.249467   -1.487674  0.092399  0.260080  0.294069 -0.344387  0.808214\n",
       "3 -0.100522   -0.578226 -0.878230  1.390364  0.032594 -0.085589  0.008046\n",
       "4  0.395962    1.240670  0.092399  1.013603 -0.882569 -0.344387  0.808214\n",
       "5  0.048423    0.331222 -0.878230 -0.870204  1.470708 -1.379579  0.008046"
      ]
     },
     "execution_count": 230,
     "metadata": {},
     "output_type": "execute_result"
    }
   ],
   "source": [
    "dp.head()"
   ]
  },
  {
   "cell_type": "code",
   "execution_count": 231,
   "id": "e5e9edc3",
   "metadata": {},
   "outputs": [
    {
     "data": {
      "text/html": [
       "<div>\n",
       "<style scoped>\n",
       "    .dataframe tbody tr th:only-of-type {\n",
       "        vertical-align: middle;\n",
       "    }\n",
       "\n",
       "    .dataframe tbody tr th {\n",
       "        vertical-align: top;\n",
       "    }\n",
       "\n",
       "    .dataframe thead th {\n",
       "        text-align: right;\n",
       "    }\n",
       "</style>\n",
       "<table border=\"1\" class=\"dataframe\">\n",
       "  <thead>\n",
       "    <tr style=\"text-align: right;\">\n",
       "      <th></th>\n",
       "      <th>weight</th>\n",
       "      <th>rented_for</th>\n",
       "      <th>category</th>\n",
       "      <th>height</th>\n",
       "      <th>age</th>\n",
       "      <th>chest</th>\n",
       "      <th>response</th>\n",
       "    </tr>\n",
       "  </thead>\n",
       "  <tbody>\n",
       "    <tr>\n",
       "      <th>weight</th>\n",
       "      <td>1.000000</td>\n",
       "      <td>0.020907</td>\n",
       "      <td>-0.005556</td>\n",
       "      <td>-0.002874</td>\n",
       "      <td>0.068379</td>\n",
       "      <td>0.580205</td>\n",
       "      <td>-0.018027</td>\n",
       "    </tr>\n",
       "    <tr>\n",
       "      <th>rented_for</th>\n",
       "      <td>0.020907</td>\n",
       "      <td>1.000000</td>\n",
       "      <td>-0.080671</td>\n",
       "      <td>0.002583</td>\n",
       "      <td>-0.084526</td>\n",
       "      <td>0.005369</td>\n",
       "      <td>0.029089</td>\n",
       "    </tr>\n",
       "    <tr>\n",
       "      <th>category</th>\n",
       "      <td>-0.005556</td>\n",
       "      <td>-0.080671</td>\n",
       "      <td>1.000000</td>\n",
       "      <td>0.001151</td>\n",
       "      <td>0.023681</td>\n",
       "      <td>-0.004877</td>\n",
       "      <td>0.018451</td>\n",
       "    </tr>\n",
       "    <tr>\n",
       "      <th>height</th>\n",
       "      <td>-0.002874</td>\n",
       "      <td>0.002583</td>\n",
       "      <td>0.001151</td>\n",
       "      <td>1.000000</td>\n",
       "      <td>0.000804</td>\n",
       "      <td>-0.002693</td>\n",
       "      <td>-0.002551</td>\n",
       "    </tr>\n",
       "    <tr>\n",
       "      <th>age</th>\n",
       "      <td>0.068379</td>\n",
       "      <td>-0.084526</td>\n",
       "      <td>0.023681</td>\n",
       "      <td>0.000804</td>\n",
       "      <td>1.000000</td>\n",
       "      <td>0.168020</td>\n",
       "      <td>-0.013073</td>\n",
       "    </tr>\n",
       "    <tr>\n",
       "      <th>chest</th>\n",
       "      <td>0.580205</td>\n",
       "      <td>0.005369</td>\n",
       "      <td>-0.004877</td>\n",
       "      <td>-0.002693</td>\n",
       "      <td>0.168020</td>\n",
       "      <td>1.000000</td>\n",
       "      <td>-0.016789</td>\n",
       "    </tr>\n",
       "    <tr>\n",
       "      <th>response</th>\n",
       "      <td>-0.018027</td>\n",
       "      <td>0.029089</td>\n",
       "      <td>0.018451</td>\n",
       "      <td>-0.002551</td>\n",
       "      <td>-0.013073</td>\n",
       "      <td>-0.016789</td>\n",
       "      <td>1.000000</td>\n",
       "    </tr>\n",
       "  </tbody>\n",
       "</table>\n",
       "</div>"
      ],
      "text/plain": [
       "              weight  rented_for  category    height       age     chest  \\\n",
       "weight      1.000000    0.020907 -0.005556 -0.002874  0.068379  0.580205   \n",
       "rented_for  0.020907    1.000000 -0.080671  0.002583 -0.084526  0.005369   \n",
       "category   -0.005556   -0.080671  1.000000  0.001151  0.023681 -0.004877   \n",
       "height     -0.002874    0.002583  0.001151  1.000000  0.000804 -0.002693   \n",
       "age         0.068379   -0.084526  0.023681  0.000804  1.000000  0.168020   \n",
       "chest       0.580205    0.005369 -0.004877 -0.002693  0.168020  1.000000   \n",
       "response   -0.018027    0.029089  0.018451 -0.002551 -0.013073 -0.016789   \n",
       "\n",
       "            response  \n",
       "weight     -0.018027  \n",
       "rented_for  0.029089  \n",
       "category    0.018451  \n",
       "height     -0.002551  \n",
       "age        -0.013073  \n",
       "chest      -0.016789  \n",
       "response    1.000000  "
      ]
     },
     "execution_count": 231,
     "metadata": {},
     "output_type": "execute_result"
    }
   ],
   "source": [
    "dp.corr()"
   ]
  },
  {
   "cell_type": "code",
   "execution_count": 232,
   "id": "04b72bdb",
   "metadata": {},
   "outputs": [],
   "source": [
    "dl = dp"
   ]
  },
  {
   "cell_type": "code",
   "execution_count": 233,
   "id": "91faa37d",
   "metadata": {},
   "outputs": [],
   "source": [
    "dp.to_csv('prepared_renttherunway.csv')"
   ]
  },
  {
   "cell_type": "markdown",
   "id": "ba98e9f1",
   "metadata": {},
   "source": [
    "# Principal Component Analysis and Clustering"
   ]
  },
  {
   "cell_type": "code",
   "execution_count": 235,
   "id": "507bb668",
   "metadata": {},
   "outputs": [
    {
     "name": "stdout",
     "output_type": "stream",
     "text": [
      "Covariance matrix \n",
      " [[ 1.00000521e+00  2.09068654e-02 -5.55571915e-03 -2.87378600e-03\n",
      "   6.83792684e-02  5.80207641e-01 -1.80272568e-02]\n",
      " [ 2.09068654e-02  1.00000521e+00 -8.06711529e-02  2.58301648e-03\n",
      "  -8.45267630e-02  5.36857131e-03  2.90890083e-02]\n",
      " [-5.55571915e-03 -8.06711529e-02  1.00000521e+00  1.15053916e-03\n",
      "   2.36806912e-02 -4.87698693e-03  1.84511230e-02]\n",
      " [-2.87378600e-03  2.58301648e-03  1.15053916e-03  1.00000521e+00\n",
      "   8.04208898e-04 -2.69310426e-03 -2.55073258e-03]\n",
      " [ 6.83792684e-02 -8.45267630e-02  2.36806912e-02  8.04208898e-04\n",
      "   1.00000521e+00  1.68020676e-01 -1.30727120e-02]\n",
      " [ 5.80207641e-01  5.36857131e-03 -4.87698693e-03 -2.69310426e-03\n",
      "   1.68020676e-01  1.00000521e+00 -1.67890460e-02]\n",
      " [-1.80272568e-02  2.90890083e-02  1.84511230e-02 -2.55073258e-03\n",
      "  -1.30727120e-02 -1.67890460e-02  1.00000521e+00]]\n"
     ]
    }
   ],
   "source": [
    "## Calculating covariance matrix\n",
    "cov_matrix = np.cov(dl.T)\n",
    "print('Covariance matrix','\\n',cov_matrix)"
   ]
  },
  {
   "cell_type": "code",
   "execution_count": 236,
   "id": "1944c3ab",
   "metadata": {},
   "outputs": [
    {
     "name": "stdout",
     "output_type": "stream",
     "text": [
      "Eigen vectors: \n",
      " [[-6.70956922e-01 -6.89071870e-01 -1.32116087e-01  1.57405095e-01\n",
      "   1.72527031e-01 -5.38093830e-02  1.02331082e-02]\n",
      " [ 8.73367034e-03  1.00077302e-03 -6.98746768e-01 -6.98290371e-01\n",
      "   1.03902572e-01 -1.08027684e-01  4.00063464e-02]\n",
      " [ 1.64949649e-03  4.64232899e-03  5.32194953e-01 -3.69620275e-01\n",
      "   6.37347719e-01 -4.08025131e-01  8.61886902e-02]\n",
      " [ 5.58121070e-03  4.23119793e-05 -3.50309863e-04  3.06598809e-02\n",
      "  -1.69225497e-02  1.53939968e-01  9.87443573e-01]\n",
      " [-2.61017762e-01 -1.23807839e-01  4.44006479e-01 -5.56140578e-01\n",
      "  -6.34214832e-01  8.85747623e-02 -5.77141909e-03]\n",
      " [-6.92576716e-01  7.14013641e-01 -5.35344476e-02  5.98474621e-02\n",
      "   5.02568179e-02 -3.83452506e-02  8.84594921e-03]\n",
      " [ 4.37479223e-02 -3.68011432e-03 -1.05161841e-01  1.92823639e-01\n",
      "  -3.84949336e-01 -8.86530711e-01  1.25339198e-01]]\n",
      "\n",
      "\n",
      "Eigen values: \n",
      " [1.62645046 0.41099317 1.12390233 0.87666563 0.95022639 1.01197062\n",
      " 0.99982791]\n"
     ]
    }
   ],
   "source": [
    "## Calculating eigen values and eigen vectors\n",
    "eig_vals, eig_vecs = np.linalg.eig(cov_matrix)\n",
    "print('Eigen vectors:','\\n',eig_vecs)\n",
    "print('\\n')\n",
    "print('Eigen values:','\\n',eig_vals)"
   ]
  },
  {
   "cell_type": "code",
   "execution_count": 237,
   "id": "c5c41dab",
   "metadata": {},
   "outputs": [
    {
     "name": "stdout",
     "output_type": "stream",
     "text": [
      "Variance Explained:  [23.234885360971713, 16.055663788814005, 14.456647709443349, 14.283181372791725, 13.574591999664554, 12.523729445064498, 5.871300323250147]\n",
      "Cummulative Variance Explained:  [ 23.23488536  39.29054915  53.74719686  68.03037823  81.60497023\n",
      "  94.12869968 100.        ]\n"
     ]
    }
   ],
   "source": [
    "total = sum(eig_vals)\n",
    "var_exp = [ (i/total)*100  for i in sorted(eig_vals,reverse=True)]\n",
    "cum_var_exp = np.cumsum(var_exp)\n",
    "print('Variance Explained: ',var_exp)\n",
    "print('Cummulative Variance Explained: ',cum_var_exp)"
   ]
  },
  {
   "cell_type": "code",
   "execution_count": 238,
   "id": "81b2b0e4",
   "metadata": {},
   "outputs": [
    {
     "data": {
      "image/png": "[encoded data removed]",
      "text/plain": [
       "<Figure size 432x288 with 1 Axes>"
      ]
     },
     "metadata": {
      "needs_background": "light"
     },
     "output_type": "display_data"
    }
   ],
   "source": [
    "plt.bar(range(7),var_exp, align='center',color='lightgreen',edgecolor='black',label='Indiviual Explained Varinace')\n",
    "plt.step(range(7), cum_var_exp, where='mid',color='red',label='Cummulative explained Variance')\n",
    "plt.legend(loc = 'best')\n",
    "plt.ylabel('Explained Variance Ratio')\n",
    "plt.xlabel('Principal Components')\n",
    "plt.tight_layout()\n",
    "plt.show()"
   ]
  },
  {
   "cell_type": "markdown",
   "id": "7a433ac9",
   "metadata": {},
   "source": [
    "We can see that approximately 93.5% of variance is explained by the first 6 features.\n",
    "\n",
    "so, we can choose the optimal number of principal components as 6."
   ]
  },
  {
   "cell_type": "code",
   "execution_count": 239,
   "id": "3db7c954",
   "metadata": {},
   "outputs": [
    {
     "data": {
      "text/plain": [
       "PCA(n_components=6)"
      ]
     },
     "execution_count": 239,
     "metadata": {},
     "output_type": "execute_result"
    }
   ],
   "source": [
    "pca=PCA(n_components = 6)\n",
    "pca.fit(dl)"
   ]
  },
  {
   "cell_type": "code",
   "execution_count": 240,
   "id": "3facb1b4",
   "metadata": {},
   "outputs": [
    {
     "data": {
      "text/html": [
       "<div>\n",
       "<style scoped>\n",
       "    .dataframe tbody tr th:only-of-type {\n",
       "        vertical-align: middle;\n",
       "    }\n",
       "\n",
       "    .dataframe tbody tr th {\n",
       "        vertical-align: top;\n",
       "    }\n",
       "\n",
       "    .dataframe thead th {\n",
       "        text-align: right;\n",
       "    }\n",
       "</style>\n",
       "<table border=\"1\" class=\"dataframe\">\n",
       "  <thead>\n",
       "    <tr style=\"text-align: right;\">\n",
       "      <th></th>\n",
       "      <th>PC1</th>\n",
       "      <th>PC2</th>\n",
       "      <th>PC3</th>\n",
       "      <th>PC4</th>\n",
       "      <th>PC5</th>\n",
       "      <th>PC6</th>\n",
       "    </tr>\n",
       "  </thead>\n",
       "  <tbody>\n",
       "    <tr>\n",
       "      <th>0</th>\n",
       "      <td>-0.106879</td>\n",
       "      <td>1.176968</td>\n",
       "      <td>-0.906674</td>\n",
       "      <td>1.140140</td>\n",
       "      <td>0.679988</td>\n",
       "      <td>-1.261128</td>\n",
       "    </tr>\n",
       "    <tr>\n",
       "      <th>1</th>\n",
       "      <td>-0.353108</td>\n",
       "      <td>1.185561</td>\n",
       "      <td>-0.500784</td>\n",
       "      <td>0.299266</td>\n",
       "      <td>-0.658056</td>\n",
       "      <td>-0.945070</td>\n",
       "    </tr>\n",
       "    <tr>\n",
       "      <th>2</th>\n",
       "      <td>-0.119829</td>\n",
       "      <td>-0.032355</td>\n",
       "      <td>0.639282</td>\n",
       "      <td>1.273115</td>\n",
       "      <td>-0.688758</td>\n",
       "      <td>-0.733489</td>\n",
       "    </tr>\n",
       "    <tr>\n",
       "      <th>3</th>\n",
       "      <td>-0.255210</td>\n",
       "      <td>-1.328831</td>\n",
       "      <td>-0.818474</td>\n",
       "      <td>1.165874</td>\n",
       "      <td>0.470270</td>\n",
       "      <td>0.181033</td>\n",
       "    </tr>\n",
       "    <tr>\n",
       "      <th>4</th>\n",
       "      <td>-0.536033</td>\n",
       "      <td>0.021090</td>\n",
       "      <td>0.362029</td>\n",
       "      <td>-0.940908</td>\n",
       "      <td>-1.507418</td>\n",
       "      <td>0.824669</td>\n",
       "    </tr>\n",
       "  </tbody>\n",
       "</table>\n",
       "</div>"
      ],
      "text/plain": [
       "        PC1       PC2       PC3       PC4       PC5       PC6\n",
       "0 -0.106879  1.176968 -0.906674  1.140140  0.679988 -1.261128\n",
       "1 -0.353108  1.185561 -0.500784  0.299266 -0.658056 -0.945070\n",
       "2 -0.119829 -0.032355  0.639282  1.273115 -0.688758 -0.733489\n",
       "3 -0.255210 -1.328831 -0.818474  1.165874  0.470270  0.181033\n",
       "4 -0.536033  0.021090  0.362029 -0.940908 -1.507418  0.824669"
      ]
     },
     "execution_count": 240,
     "metadata": {},
     "output_type": "execute_result"
    }
   ],
   "source": [
    "# Transformed dataset after PCA is dpca.\n",
    "dpca = pca.transform(dl)\n",
    "dpca = pd.DataFrame(dpca,columns=['PC1','PC2','PC3','PC4','PC5','PC6'])\n",
    "dpca.head()"
   ]
  },
  {
   "cell_type": "markdown",
   "id": "1b8ad56e",
   "metadata": {},
   "source": [
    "# K-means clustering and segment the data"
   ]
  },
  {
   "cell_type": "code",
   "execution_count": 241,
   "id": "93341f41",
   "metadata": {},
   "outputs": [],
   "source": [
    "cluster_range = range(1,12)\n",
    "cluster_errors = []\n",
    "\n",
    "for num_clusters in cluster_range:\n",
    "    clusters = KMeans(num_clusters, init='k-means++', n_init=20, random_state=42)\n",
    "    clusters.fit(dpca)\n",
    "    labels = clusters.labels_\n",
    "    centroids = clusters.cluster_centers_\n",
    "    cluster_errors.append(clusters.inertia_)\n",
    "clusters_df = pd.DataFrame({'num_clusters':cluster_range, \n",
    "                           'cluster_errors':cluster_errors})"
   ]
  },
  {
   "cell_type": "code",
   "execution_count": 242,
   "id": "56429345",
   "metadata": {},
   "outputs": [
    {
     "data": {
      "image/png": "[encoded data removed]",
      "text/plain": [
       "<Figure size 720x360 with 1 Axes>"
      ]
     },
     "metadata": {
      "needs_background": "light"
     },
     "output_type": "display_data"
    }
   ],
   "source": [
    "# Elbow method\n",
    "plt.figure(figsize=[10,5])\n",
    "plt.title('The Elbow Method')\n",
    "plt.xlabel('Number of clusters using PCA')\n",
    "plt.plot(clusters_df['num_clusters'],clusters_df['cluster_errors'],marker='o',color='b')\n",
    "plt.show()"
   ]
  },
  {
   "cell_type": "markdown",
   "id": "9cd04ffa",
   "metadata": {},
   "source": [
    "From the Elbow plot, we can see that at K= 5 or 6, the interia starts to drop significantly.\n",
    "\n",
    "We also calculate Silhoutte Scores for various possible clusters. We find that 5 gives us the best value. \n",
    "So, we will go ahead with 5 clusters. The clusters are labeled as 0,1,2,3,4."
   ]
  },
  {
   "cell_type": "code",
   "execution_count": 243,
   "id": "39a434c9",
   "metadata": {},
   "outputs": [
    {
     "data": {
      "text/plain": [
       "KMeans(n_clusters=5, n_init=20, random_state=42)"
      ]
     },
     "execution_count": 243,
     "metadata": {},
     "output_type": "execute_result"
    }
   ],
   "source": [
    "# Build a Kmeans clustering model using the obtained optimal K value from the elbow plot\n",
    "kmeans = KMeans(n_clusters=5, init='k-means++', n_init=20, random_state=42)\n",
    "kmeans.fit(dpca)"
   ]
  },
  {
   "cell_type": "code",
   "execution_count": 244,
   "id": "b55c22b8",
   "metadata": {},
   "outputs": [
    {
     "data": {
      "text/html": [
       "<div>\n",
       "<style scoped>\n",
       "    .dataframe tbody tr th:only-of-type {\n",
       "        vertical-align: middle;\n",
       "    }\n",
       "\n",
       "    .dataframe tbody tr th {\n",
       "        vertical-align: top;\n",
       "    }\n",
       "\n",
       "    .dataframe thead th {\n",
       "        text-align: right;\n",
       "    }\n",
       "</style>\n",
       "<table border=\"1\" class=\"dataframe\">\n",
       "  <thead>\n",
       "    <tr style=\"text-align: right;\">\n",
       "      <th></th>\n",
       "      <th>weight</th>\n",
       "      <th>rented_for</th>\n",
       "      <th>category</th>\n",
       "      <th>height</th>\n",
       "      <th>age</th>\n",
       "      <th>chest</th>\n",
       "      <th>response</th>\n",
       "      <th>Labels</th>\n",
       "    </tr>\n",
       "  </thead>\n",
       "  <tbody>\n",
       "    <tr>\n",
       "      <th>0</th>\n",
       "      <td>-0.001225</td>\n",
       "      <td>-1.487674</td>\n",
       "      <td>1.063029</td>\n",
       "      <td>1.013603</td>\n",
       "      <td>-0.751832</td>\n",
       "      <td>0.173209</td>\n",
       "      <td>0.808214</td>\n",
       "      <td>4</td>\n",
       "    </tr>\n",
       "    <tr>\n",
       "      <th>1</th>\n",
       "      <td>-0.249467</td>\n",
       "      <td>-1.487674</td>\n",
       "      <td>0.092399</td>\n",
       "      <td>0.260080</td>\n",
       "      <td>0.294069</td>\n",
       "      <td>-0.344387</td>\n",
       "      <td>0.808214</td>\n",
       "      <td>0</td>\n",
       "    </tr>\n",
       "    <tr>\n",
       "      <th>3</th>\n",
       "      <td>-0.100522</td>\n",
       "      <td>-0.578226</td>\n",
       "      <td>-0.878230</td>\n",
       "      <td>1.390364</td>\n",
       "      <td>0.032594</td>\n",
       "      <td>-0.085589</td>\n",
       "      <td>0.008046</td>\n",
       "      <td>0</td>\n",
       "    </tr>\n",
       "    <tr>\n",
       "      <th>4</th>\n",
       "      <td>0.395962</td>\n",
       "      <td>1.240670</td>\n",
       "      <td>0.092399</td>\n",
       "      <td>1.013603</td>\n",
       "      <td>-0.882569</td>\n",
       "      <td>-0.344387</td>\n",
       "      <td>0.808214</td>\n",
       "      <td>2</td>\n",
       "    </tr>\n",
       "    <tr>\n",
       "      <th>5</th>\n",
       "      <td>0.048423</td>\n",
       "      <td>0.331222</td>\n",
       "      <td>-0.878230</td>\n",
       "      <td>-0.870204</td>\n",
       "      <td>1.470708</td>\n",
       "      <td>-1.379579</td>\n",
       "      <td>0.008046</td>\n",
       "      <td>0</td>\n",
       "    </tr>\n",
       "  </tbody>\n",
       "</table>\n",
       "</div>"
      ],
      "text/plain": [
       "     weight  rented_for  category    height       age     chest  response  \\\n",
       "0 -0.001225   -1.487674  1.063029  1.013603 -0.751832  0.173209  0.808214   \n",
       "1 -0.249467   -1.487674  0.092399  0.260080  0.294069 -0.344387  0.808214   \n",
       "3 -0.100522   -0.578226 -0.878230  1.390364  0.032594 -0.085589  0.008046   \n",
       "4  0.395962    1.240670  0.092399  1.013603 -0.882569 -0.344387  0.808214   \n",
       "5  0.048423    0.331222 -0.878230 -0.870204  1.470708 -1.379579  0.008046   \n",
       "\n",
       "  Labels  \n",
       "0      4  \n",
       "1      0  \n",
       "3      0  \n",
       "4      2  \n",
       "5      0  "
      ]
     },
     "execution_count": 244,
     "metadata": {},
     "output_type": "execute_result"
    }
   ],
   "source": [
    "# Creating a new dataframe only for labels and converting it into categorical variables.\n",
    "\n",
    "df_labels = pd.DataFrame(kmeans.labels_, columns=list(['Labels']))\n",
    "df_labels['Labels'] = df_labels['Labels'].astype('category')\n",
    "\n",
    "# joining the label dataframe with unscaled initial dataframe.(df)\n",
    "\n",
    "df_kmeans = dl.join(df_labels)\n",
    "df_kmeans.head()"
   ]
  },
  {
   "cell_type": "code",
   "execution_count": 248,
   "id": "f0ba3e27",
   "metadata": {},
   "outputs": [
    {
     "data": {
      "text/plain": [
       "0    67370\n",
       "1    40002\n",
       "4    34419\n",
       "3    25581\n",
       "2    23678\n",
       "Name: Labels, dtype: int64"
      ]
     },
     "execution_count": 248,
     "metadata": {},
     "output_type": "execute_result"
    }
   ],
   "source": [
    "df_kmeans['Labels'].value_counts()"
   ]
  },
  {
   "cell_type": "markdown",
   "id": "8ddc19ef",
   "metadata": {},
   "source": [
    "Computing silhouette score for evaluating the quality of the K Means clustering technique"
   ]
  },
  {
   "cell_type": "code",
   "execution_count": 249,
   "id": "d47ad214",
   "metadata": {},
   "outputs": [],
   "source": [
    "from sklearn.metrics import silhouette_score\n",
    "from sklearn.cluster import KMeans"
   ]
  },
  {
   "cell_type": "code",
   "execution_count": 250,
   "id": "2aba39bd",
   "metadata": {},
   "outputs": [
    {
     "name": "stdout",
     "output_type": "stream",
     "text": [
      "4   0.1636424260648133\n",
      "5   0.17038012398976338\n",
      "6   0.1628109854461838\n",
      "7   0.16862855071952815\n",
      "8   0.15954769586395973\n"
     ]
    }
   ],
   "source": [
    "# Limit the study of clusters from 5 to 7\n",
    "\n",
    "kmeans_score = []\n",
    "\n",
    "for i in range(4,9):\n",
    "    kmeans = KMeans(n_clusters=i, init='k-means++', n_init=10, random_state=42)\n",
    "    kmeans = kmeans.fit(dpca)\n",
    "    labels = kmeans.predict(dpca)\n",
    "    print(i, ' ', silhouette_score(dpca,labels))"
   ]
  },
  {
   "cell_type": "markdown",
   "id": "0378a3fa",
   "metadata": {},
   "source": [
    "From above, we can observe that for 5 and 6 clusters the silhoutte score is highest, we can choose optimal clusters as 5 or 6."
   ]
  },
  {
   "cell_type": "markdown",
   "id": "6d5f4bc9",
   "metadata": {},
   "source": [
    "# Agglomerative clustering and segment the data"
   ]
  },
  {
   "cell_type": "code",
   "execution_count": 267,
   "id": "47bd58cb",
   "metadata": {},
   "outputs": [
    {
     "name": "stdout",
     "output_type": "stream",
     "text": [
      "<class 'pandas.core.frame.DataFrame'>\n",
      "RangeIndex: 191795 entries, 0 to 191794\n",
      "Data columns (total 6 columns):\n",
      " #   Column  Non-Null Count   Dtype  \n",
      "---  ------  --------------   -----  \n",
      " 0   PC1     191795 non-null  float64\n",
      " 1   PC2     191795 non-null  float64\n",
      " 2   PC3     191795 non-null  float64\n",
      " 3   PC4     191795 non-null  float64\n",
      " 4   PC5     191795 non-null  float64\n",
      " 5   PC6     191795 non-null  float64\n",
      "dtypes: float64(6)\n",
      "memory usage: 8.8 MB\n"
     ]
    }
   ],
   "source": [
    "dpca.info()"
   ]
  },
  {
   "cell_type": "code",
   "execution_count": 276,
   "id": "52b5da40",
   "metadata": {},
   "outputs": [],
   "source": [
    "dac = dpca.sample(frac=0.10)"
   ]
  },
  {
   "cell_type": "code",
   "execution_count": 277,
   "id": "2ac91dd5",
   "metadata": {},
   "outputs": [
    {
     "name": "stdout",
     "output_type": "stream",
     "text": [
      "<class 'pandas.core.frame.DataFrame'>\n",
      "Int64Index: 19180 entries, 18756 to 37267\n",
      "Data columns (total 6 columns):\n",
      " #   Column  Non-Null Count  Dtype  \n",
      "---  ------  --------------  -----  \n",
      " 0   PC1     19180 non-null  float64\n",
      " 1   PC2     19180 non-null  float64\n",
      " 2   PC3     19180 non-null  float64\n",
      " 3   PC4     19180 non-null  float64\n",
      " 4   PC5     19180 non-null  float64\n",
      " 5   PC6     19180 non-null  float64\n",
      "dtypes: float64(6)\n",
      "memory usage: 1.0 MB\n"
     ]
    }
   ],
   "source": [
    "dac.info()"
   ]
  },
  {
   "cell_type": "code",
   "execution_count": 278,
   "id": "8149d3c5",
   "metadata": {},
   "outputs": [],
   "source": [
    "from scipy.cluster.hierarchy import ward, fcluster\n",
    "from scipy.spatial.distance import pdist\n",
    "from sklearn.cluster import AgglomerativeClustering\n",
    "from scipy.cluster.hierarchy import dendrogram, linkage\n",
    "from scipy.spatial import distance"
   ]
  },
  {
   "cell_type": "code",
   "execution_count": 279,
   "id": "d57524ba",
   "metadata": {},
   "outputs": [
    {
     "data": {
      "image/png": "[encoded data removed]",
      "text/plain": [
       "<Figure size 1296x504 with 1 Axes>"
      ]
     },
     "metadata": {
      "needs_background": "light"
     },
     "output_type": "display_data"
    }
   ],
   "source": [
    "plt.figure(figsize=[18,7])\n",
    "merg = linkage(dac, method='ward')\n",
    "dendrogram(merg, leaf_rotation=90,)\n",
    "plt.xlabel('Datapoints')\n",
    "plt.ylabel('Euclidean distance')\n",
    "plt.show()"
   ]
  },
  {
   "cell_type": "code",
   "execution_count": 282,
   "id": "cca2acd4",
   "metadata": {},
   "outputs": [],
   "source": [
    "# Build a Agglomerative clustering model using the optimal clusters as 4\n",
    "hie_cluster = AgglomerativeClustering(n_clusters=4, affinity='euclidean',\n",
    "                                     linkage='ward')\n",
    "hie_cluster_model = hie_cluster.fit(dac)"
   ]
  },
  {
   "cell_type": "code",
   "execution_count": 283,
   "id": "4d820339",
   "metadata": {},
   "outputs": [
    {
     "data": {
      "text/html": [
       "<div>\n",
       "<style scoped>\n",
       "    .dataframe tbody tr th:only-of-type {\n",
       "        vertical-align: middle;\n",
       "    }\n",
       "\n",
       "    .dataframe tbody tr th {\n",
       "        vertical-align: top;\n",
       "    }\n",
       "\n",
       "    .dataframe thead th {\n",
       "        text-align: right;\n",
       "    }\n",
       "</style>\n",
       "<table border=\"1\" class=\"dataframe\">\n",
       "  <thead>\n",
       "    <tr style=\"text-align: right;\">\n",
       "      <th></th>\n",
       "      <th>Labels</th>\n",
       "    </tr>\n",
       "  </thead>\n",
       "  <tbody>\n",
       "    <tr>\n",
       "      <th>0</th>\n",
       "      <td>2</td>\n",
       "    </tr>\n",
       "    <tr>\n",
       "      <th>1</th>\n",
       "      <td>1</td>\n",
       "    </tr>\n",
       "    <tr>\n",
       "      <th>2</th>\n",
       "      <td>2</td>\n",
       "    </tr>\n",
       "    <tr>\n",
       "      <th>3</th>\n",
       "      <td>3</td>\n",
       "    </tr>\n",
       "    <tr>\n",
       "      <th>4</th>\n",
       "      <td>0</td>\n",
       "    </tr>\n",
       "  </tbody>\n",
       "</table>\n",
       "</div>"
      ],
      "text/plain": [
       "   Labels\n",
       "0       2\n",
       "1       1\n",
       "2       2\n",
       "3       3\n",
       "4       0"
      ]
     },
     "execution_count": 283,
     "metadata": {},
     "output_type": "execute_result"
    }
   ],
   "source": [
    "## Creating a dataframe of the labels\n",
    "df_label1 = pd.DataFrame(hie_cluster_model.labels_,columns=['Labels'])\n",
    "df_label1.head(5)"
   ]
  },
  {
   "cell_type": "code",
   "execution_count": 285,
   "id": "d94a2661",
   "metadata": {},
   "outputs": [
    {
     "data": {
      "text/html": [
       "<div>\n",
       "<style scoped>\n",
       "    .dataframe tbody tr th:only-of-type {\n",
       "        vertical-align: middle;\n",
       "    }\n",
       "\n",
       "    .dataframe tbody tr th {\n",
       "        vertical-align: top;\n",
       "    }\n",
       "\n",
       "    .dataframe thead th {\n",
       "        text-align: right;\n",
       "    }\n",
       "</style>\n",
       "<table border=\"1\" class=\"dataframe\">\n",
       "  <thead>\n",
       "    <tr style=\"text-align: right;\">\n",
       "      <th></th>\n",
       "      <th>weight</th>\n",
       "      <th>rented_for</th>\n",
       "      <th>category</th>\n",
       "      <th>height</th>\n",
       "      <th>age</th>\n",
       "      <th>chest</th>\n",
       "      <th>response</th>\n",
       "      <th>Labels</th>\n",
       "    </tr>\n",
       "  </thead>\n",
       "  <tbody>\n",
       "    <tr>\n",
       "      <th>0</th>\n",
       "      <td>137.0</td>\n",
       "      <td>0</td>\n",
       "      <td>2</td>\n",
       "      <td>68.0</td>\n",
       "      <td>28.0</td>\n",
       "      <td>1292</td>\n",
       "      <td>20.0</td>\n",
       "      <td>2.0</td>\n",
       "    </tr>\n",
       "    <tr>\n",
       "      <th>1</th>\n",
       "      <td>132.0</td>\n",
       "      <td>0</td>\n",
       "      <td>1</td>\n",
       "      <td>66.0</td>\n",
       "      <td>36.0</td>\n",
       "      <td>1224</td>\n",
       "      <td>20.0</td>\n",
       "      <td>1.0</td>\n",
       "    </tr>\n",
       "    <tr>\n",
       "      <th>3</th>\n",
       "      <td>135.0</td>\n",
       "      <td>1</td>\n",
       "      <td>0</td>\n",
       "      <td>69.0</td>\n",
       "      <td>34.0</td>\n",
       "      <td>1258</td>\n",
       "      <td>16.0</td>\n",
       "      <td>3.0</td>\n",
       "    </tr>\n",
       "    <tr>\n",
       "      <th>4</th>\n",
       "      <td>145.0</td>\n",
       "      <td>3</td>\n",
       "      <td>1</td>\n",
       "      <td>68.0</td>\n",
       "      <td>27.0</td>\n",
       "      <td>1224</td>\n",
       "      <td>20.0</td>\n",
       "      <td>0.0</td>\n",
       "    </tr>\n",
       "    <tr>\n",
       "      <th>5</th>\n",
       "      <td>138.0</td>\n",
       "      <td>2</td>\n",
       "      <td>0</td>\n",
       "      <td>63.0</td>\n",
       "      <td>45.0</td>\n",
       "      <td>1088</td>\n",
       "      <td>16.0</td>\n",
       "      <td>0.0</td>\n",
       "    </tr>\n",
       "  </tbody>\n",
       "</table>\n",
       "</div>"
      ],
      "text/plain": [
       "   weight  rented_for  category  height   age  chest  response  Labels\n",
       "0   137.0           0         2    68.0  28.0   1292      20.0     2.0\n",
       "1   132.0           0         1    66.0  36.0   1224      20.0     1.0\n",
       "3   135.0           1         0    69.0  34.0   1258      16.0     3.0\n",
       "4   145.0           3         1    68.0  27.0   1224      20.0     0.0\n",
       "5   138.0           2         0    63.0  45.0   1088      16.0     0.0"
      ]
     },
     "execution_count": 285,
     "metadata": {},
     "output_type": "execute_result"
    }
   ],
   "source": [
    "## joining the label dataframe with unscaled initial dataframe.(df)\n",
    "\n",
    "df_hier = dc.join(df_label1)\n",
    "df_hier.head()"
   ]
  },
  {
   "cell_type": "markdown",
   "id": "5ca779fe",
   "metadata": {},
   "source": [
    "Compute silhouette score for evaluating the quality of the Agglomerative clustering technique"
   ]
  },
  {
   "cell_type": "code",
   "execution_count": null,
   "id": "7c6deaff",
   "metadata": {},
   "outputs": [
    {
     "name": "stdout",
     "output_type": "stream",
     "text": [
      "2 0.15876204702354604\n",
      "3 0.13953984686363838\n",
      "4 0.1182987661272727\n",
      "5 0.11745360493579636\n",
      "6 0.1262743676203365\n"
     ]
    }
   ],
   "source": [
    "for i in range(2,15):\n",
    "    hier = AgglomerativeClustering(n_clusters=i)\n",
    "    hier = hier.fit(dac)\n",
    "    labels = hier.fit_predict(dac)\n",
    "    print(i,silhouette_score(dac,labels))"
   ]
  },
  {
   "cell_type": "markdown",
   "id": "8367cd7b",
   "metadata": {},
   "source": [
    "From above, we can observe that the silhouette score is highest for 6."
   ]
  }
 ],
 "metadata": {
  "kernelspec": {
   "display_name": "Python 3 (ipykernel)",
   "language": "python",
   "name": "python3"
  },
  "language_info": {
   "codemirror_mode": {
    "name": "ipython",
    "version": 3
   },
   "file_extension": ".py",
   "mimetype": "text/x-python",
   "name": "python",
   "nbconvert_exporter": "python",
   "pygments_lexer": "ipython3",
   "version": "3.9.12"
  }
 },
 "nbformat": 4,
 "nbformat_minor": 5
}
